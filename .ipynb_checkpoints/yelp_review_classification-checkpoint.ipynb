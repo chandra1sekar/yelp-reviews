{
 "cells": [
  {
   "cell_type": "markdown",
   "metadata": {},
   "source": [
    "## Classifying and Natural Language Processing with Yelp Reviews Data\n",
    "#### W207 Section 3, Group - <span style=\"color:orange\"><strong>C</strong></span>olors\n",
    "#### Summer, 2018\n",
    "#### Team members:\n",
    "- Chandra Sekar, chandra-sekar@ischool.berkeley.edu\n",
    "- Guangyu (Gary) Pei, guangyu.pei@ischool.berkeley.edu\n",
    "- Jooyeon (Irene) Seo, jooyeon@ischool.berkeley.edu\n",
    "- Sijie (Anne) Yu, syu.anne@berkeley.edu"
   ]
  },
  {
   "cell_type": "code",
   "execution_count": 32,
   "metadata": {},
   "outputs": [
    {
     "name": "stdout",
     "output_type": "stream",
     "text": [
      "Python version used: 3.6.5 |Anaconda custom (64-bit)| (default, Mar 29 2018, 13:14:23) \n",
      "[GCC 4.2.1 Compatible Clang 4.0.1 (tags/RELEASE_401/final)]\n",
      "Numpy version used: 1.14.2\n",
      "sklearn version used: 0.19.1\n"
     ]
    }
   ],
   "source": [
    "# General libraries.\n",
    "%matplotlib inline\n",
    "import numpy as np\n",
    "import matplotlib.pyplot as plt\n",
    "import pandas as pd\n",
    "import re\n",
    "import sys\n",
    "import warnings\n",
    "warnings.filterwarnings(\"ignore\", category=DeprecationWarning)\n",
    "\n",
    "# SK-learn libraries for learning.\n",
    "#import sklearn\n",
    "from sklearn.pipeline import Pipeline\n",
    "from sklearn.neighbors import KNeighborsClassifier\n",
    "from sklearn.linear_model import LogisticRegression\n",
    "from sklearn.naive_bayes import BernoulliNB\n",
    "from sklearn.naive_bayes import MultinomialNB\n",
    "from sklearn.grid_search import GridSearchCV\n",
    "\n",
    "# keras package for neural networks.\n",
    "from keras import models\n",
    "from keras import layers\n",
    "from keras import optimizers\n",
    "\n",
    "# SK-learn libraries for evaluation.\n",
    "from sklearn.metrics import confusion_matrix\n",
    "from sklearn import metrics\n",
    "from sklearn.metrics import classification_report\n",
    "\n",
    "# SK-learn libraries for feature extraction from text.\n",
    "from sklearn.feature_extraction.text import *\n",
    "\n",
    "# Config Jupyter session\n",
    "%config IPCompleter.greedy=True\n",
    "\n",
    "# Set the randomizer seed so results are the same each time.\n",
    "np.random.seed(0)\n",
    "\n",
    "# Global configurations\n",
    "np.set_printoptions(precision=4, suppress=True)\n",
    "\n",
    "# Config system logs\n",
    "import logging\n",
    "logging.basicConfig(level=logging.INFO,\n",
    "                   format='%(asctime)s %(levelname)s %(message)s')\n",
    "\n",
    "# print versions\n",
    "print(\"Python version used:\", sys.version)\n",
    "print(\"Numpy version used:\", np.__version__)\n",
    "print(\"sklearn version used:\", sklearn.__version__)"
   ]
  },
  {
   "cell_type": "markdown",
   "metadata": {},
   "source": [
    "#### Goals\n",
    "Our project’s primary concept is to utilize Yelp data (from kaggle) to rate new business. That is, we are going to get Yelp user review data, use review texts to predict review is **positive** or **negative**. When people talk about a new business, we can capture their words, fit into the model, then predict its rating, sort of understand its quality and potential.\n",
    "\n",
    "#### The Yelp Review Dataset\n",
    "We write a shell [script](https://github.com/annesjyu/m207_summer_2018) to select $10,000$ reviews for training, testing and dev respectively, each set consisting in 50% negative and 50% positive reviews. We keep only review text and stars columns, then binarize stars into target label: \n",
    "- if starts >= $3.0$, review is *positive*\n",
    "- otherwise, it's *negative*.\n",
    "\n",
    "The following code will load the dataset and split it into $3$ sets:"
   ]
  },
  {
   "cell_type": "code",
   "execution_count": 15,
   "metadata": {},
   "outputs": [
    {
     "name": "stdout",
     "output_type": "stream",
     "text": [
      "Full data dim:  (29701, 2)\n",
      "train data size:  12000\n",
      "test data size:  10000\n",
      "dev data size:  7700\n",
      "________________________________________________________________________________\n",
      "Training examples:\n",
      " [\"I would never have known of this establishment's existence if it wasn't for the small dining area out front with umbrellas and strange wrought-iron flutterby and dragonfly shaped chairs and tables. Not very comfortable to dine in  but cutesy nonetheless. It also helps that I now work in the surrounding area  since Munch-a-Lunch seems to cater exclusively to the business parks around it. Although it's nothing to write home about  it does a pretty fine job of sating my hunger.  This small hole-in-the-wall joint caters to those on the go with a five dollar sandwich box that consists of a sammich  bag o' chips  candy bar and canned soda. It's a screaming deal compared to most fast food meal deal prices  and you can be in and out in a few minutes. However  if you're willing to wait around a bit (and maybe try out those funky butterfly chairs or watch an old black and white movie on the tele inside)  the made to order specials and salads are usually pretty solid and a good bang for your lunch buck.   One gripe I have with this place is that the consistency is wildly variable depending on the day. I've ordered the Greek salad numerous times (what can I say  I'm a sucker for beets in a salad) and it's been nigh inedible at times due to a heavy hand with the salty dressing and feta cheese. So order dressing on the side if you're a featherweight like me. At times some items have been a bit stale as well. I've had some unfortunate puff pastry that seemed like it had been freezer burned or microwaved a hair too long. And they have a strange propensity for smothering things in sour cream sauce.   These are little issues in the overall quality of the food though. Sandwiches and salads are always a solid bet  and the Greek menu items have rarely let me down!   Give it a shot if you're in the area. There's worse things you could do to yourself for five bucks. \"\n",
      " 'This is my favourite place to go for butter chicken. Me and friends have been to this place many times and every time we get delicioius food with excellent service. ']\n",
      "[1 1]\n",
      "________________________________________________________________________________\n",
      "Testing examples:\n",
      " [\"1.5 but rounded up. just because I didn't get sick after eating their food.  I ordered from them twice--last night being the second and will be the last time. I ordered peasant fries with cheese ON THE SIDE  sandwich with NO CHEESE  and hot pretzel NOT TO BE FRIED. The only thing that was done right was sandwich without cheese. I mean  is it that hard to put cheese ON THE SIDE for the fries and not to fry the pretzel? seriously? Who ever took the order wrote my specifications down on the sheet (I know it because I had it with my order) but why did they not follow them? huh? I didn't call them to complain or for explanation because I am sick of these ignorance from the restaurants. Instead  I will never go back to the restaurant. \"\n",
      " \"Very good authentic Indian food and great service . We were in Vegas for a convention and stopped here for dinner. It's. Must do Indian restaurant ... When in Vegas . \"]\n",
      "[0 1]\n",
      "________________________________________________________________________________\n",
      "Dev examples:\n",
      " [\"Just opened on Park and it's definitely an upgrade from their old spot on Sherbrooke! Their veggie burger hits the spot when you're crazing one and their fries are perfection fresh and hot out of the flyer. Love the new interior and am always glad for delivery when it's too cold outside. Their online delivery page is wonderful.   Try their Oreo Milkshake if you really want to treat yourself! \"\n",
      " \"Indian is my among my favorites and I love it extra spicy which is perfect for the winter. My stomach is made of cast iron  I suspect. I prefer southern indian over northern indian food. That said  Cafe Tandoor is a bit northern  where the sauces tend towards the creamy and sweet. It's the only Indian restaurant around where I live though. A bit Americanized  Cafe Tandoor is a great gateway drug to this regional cuisine for the uninitiated. If you've never tried indian food before  come in and order the butter chicken  saffron rice and garlic naan. Finish things off with a Gulab Jaman for dessert. \"]\n",
      "[1 1]\n"
     ]
    }
   ],
   "source": [
    "with np.warnings.catch_warnings():\n",
    "    # There are some bad data, we just dont want to see a lot of warning messages\n",
    "    np.warnings.filterwarnings('ignore', r'Some errors were detected')\n",
    "    data = np.genfromtxt('data.csv',dtype='str', delimiter='|', skip_header=1, \n",
    "                         usecols = (0,1), invalid_raise=False, loose=True)\n",
    "\n",
    "    print (\"Full data dim: \", data.shape)\n",
    "    \n",
    "    # Shuffle the data, each dataset will have roughly the same number of examples for each label.\n",
    "    shuffle = np.random.permutation(np.arange(data.shape[0]))\n",
    "    X, Y = data[shuffle, 0], data[shuffle, 1]    \n",
    "    \n",
    "    train_data, train_labels = X[0:12000], Y[:12000].astype(np.int)\n",
    "    test_data, test_labels = X[12000:22000], Y[12000:22000].astype(np.int)\n",
    "    dev_data, dev_labels = X[22000:-1], Y[22000:-1].astype(np.int)\n",
    "\n",
    "    NUM_OF_TRAINING_DATA = len(train_data)\n",
    "    NUM_OF_TESTING_DATA = len(test_data)\n",
    "    NUM_OF_DEV_DATA = len(dev_data)\n",
    "\n",
    "    print ('train data size: ', NUM_OF_TRAINING_DATA)\n",
    "    print ('test data size: ', NUM_OF_TESTING_DATA)\n",
    "    print ('dev data size: ', NUM_OF_DEV_DATA)\n",
    "    print ('_'*80)\n",
    "    print ('Training examples:\\n', train_data[0:2])\n",
    "    print (train_labels[0:2])\n",
    "    print ('_'*80)\n",
    "    print ('Testing examples:\\n', test_data[0:2])\n",
    "    print (test_labels[0:2])\n",
    "    print ('_'*80)\n",
    "    print ('Dev examples:\\n', dev_data[0:2])\n",
    "    print (dev_labels[0:2])"
   ]
  },
  {
   "cell_type": "markdown",
   "metadata": {},
   "source": [
    "Analyze train, dev and test datasets to find out data distributions. Ideally we want to have 50% examples for either label."
   ]
  },
  {
   "cell_type": "code",
   "execution_count": 16,
   "metadata": {},
   "outputs": [
    {
     "name": "stdout",
     "output_type": "stream",
     "text": [
      "positive train data:  5978 , negative train data:  6022\n",
      "positive test data:  5044 , negative test data:  4956\n",
      "positive dev data:  3840 , negative dev data:  3860\n"
     ]
    }
   ],
   "source": [
    "print ('positive train data: ', len(np.where(train_labels==1)[0]), \n",
    "       ', negative train data: ', len(np.where(train_labels==0)[0]))\n",
    "print ('positive test data: ', len(np.where(test_labels==1)[0]), \n",
    "       ', negative test data: ', len(np.where(test_labels==0)[0]))\n",
    "print ('positive dev data: ', len(np.where(dev_labels==1)[0]), \n",
    "       ', negative dev data: ', len(np.where(dev_labels==0)[0]))"
   ]
  },
  {
   "cell_type": "code",
   "execution_count": 6,
   "metadata": {},
   "outputs": [
    {
     "name": "stdout",
     "output_type": "stream",
     "text": [
      "Total data size: 30000\n",
      "train data size:  (24000,)\n",
      "test data size:  (4999,)\n",
      "dev data size:  (1000,)\n"
     ]
    }
   ],
   "source": [
    "def load_data(fnm = \"data_restaurants_reviews_30_to_200_stars_1_5\", seed = 1234,\n",
    "              train_frac= 0.8, dev_size = 1000):\n",
    "    data = pd.read_pickle(fnm)\n",
    "    np.random.seed(seed)\n",
    "    data = data.sample(frac=1).reset_index(drop=True)\n",
    "    print (\"Total data size:\", data.shape[0])\n",
    "    traing_size = int(np.floor(data.shape[0]*train_frac))\n",
    "    test_size = int(np.floor(data.shape[0]*(1.0-train_frac))) - dev_size\n",
    "    train_data, train_labels = data.X[0:traing_size], data.Y[0:traing_size]\n",
    "    test_data, test_labels = data.X[traing_size:(traing_size+test_size)], data.Y[traing_size:(traing_size+test_size)]\n",
    "    dev_data, dev_labels = data.X[(traing_size+test_size):-1], data.Y[(traing_size+test_size):-1]\n",
    "    return train_data, train_labels, test_data, test_labels, dev_data, dev_labels\n",
    "    \n",
    "\n",
    "train_data, train_labels, test_data, test_labels, dev_data, dev_labels = load_data()\n",
    "\n",
    "print ('train data size: ', train_data.shape)\n",
    "print ('test data size: ', test_data.shape)\n",
    "print ('dev data size: ', dev_data.shape)"
   ]
  },
  {
   "cell_type": "markdown",
   "metadata": {},
   "source": [
    "#### Natural Language Processing on Review Texts\n",
    "\n",
    "We will create a doc-term matrix from review texts, so that classifiers can use it as an feature. There are a couple of steps of doing it. \n",
    "- First of all we will conduct Natural Language Processing with customized stemmer, stop words etc. \n",
    "- Secondly we will use Logistic Regression + L1 Regulization to reduce non-important terms."
   ]
  },
  {
   "cell_type": "code",
   "execution_count": 17,
   "metadata": {},
   "outputs": [
    {
     "name": "stdout",
     "output_type": "stream",
     "text": [
      "done in  4.887580871582031e-05  s\n"
     ]
    }
   ],
   "source": [
    "from nltk.stem.porter import PorterStemmer\n",
    "from stop_words import get_stop_words\n",
    "from time import time\n",
    "\n",
    "categories = ['Positive reviews', 'Negative reviews']\n",
    "\n",
    "def NLP_text(verbose):\n",
    "    \"\"\"The function will take a vector of texts and create a Doc-Term Matrix.\n",
    "    Input:\n",
    "        verbose: if true, will print debug info.\n",
    "    Output:\n",
    "        a customized vectorizer object.\n",
    "    \"\"\"    \n",
    "    def better_tokenizer(s):\n",
    "        tokens = TfidfVectorizer().build_tokenizer()(s)\n",
    "        # create English stop words list\n",
    "        stop_words = get_stop_words('en')\n",
    "        \n",
    "        # Create p_stemmer of class PorterStemmer\n",
    "        p_stemmer = PorterStemmer()\n",
    "        \n",
    "        # We compute the average length of original dictionary, which is 6.7\n",
    "        # then ignore extremly short and long words, like more than 6.7/2 and 6.7*2.\n",
    "        WORD_LEN = 6.7\n",
    "        \n",
    "        return [p_stemmer.stem(t) for t in tokens if len(t) >= WORD_LEN/2 \n",
    "                and len(t) <= WORD_LEN*2 and t not in stop_words]\n",
    "           \n",
    "    shuffle = np.random.permutation(train_data.shape[0])\n",
    "    X, Y = train_data[shuffle], train_labels[shuffle]\n",
    "    TUNE_DATA_SIZE = int(len(train_data)/6)\n",
    "    data = X[0:TUNE_DATA_SIZE]\n",
    "    labels = Y[0:TUNE_DATA_SIZE]\n",
    "    \n",
    "    vect1 = TfidfVectorizer(strip_accents='ascii', ngram_range=(1,1), min_df=2, \n",
    "                            stop_words='english', use_idf=False, sublinear_tf=True, \n",
    "                            max_features=10000, tokenizer=better_tokenizer)\n",
    "    \n",
    "    data_dtm = vect1.fit_transform(data)\n",
    "    features = vect1.get_feature_names()\n",
    "    print ('num of original terms: ', len(features))\n",
    "\n",
    "    # Reduce terms using Logistic Regression + L1 regulirization\n",
    "    # If the the term has a non-zero weight we will keep it, otherwise, exclude it from DTM.\n",
    "    Logistic_Regression_optimal_C = 10\n",
    "    lg = LogisticRegression(penalty=\"l1\", tol=0.01, C=Logistic_Regression_optimal_C)\n",
    "    lg.fit(data_dtm, labels)\n",
    "    print ('dim of coef matrix: ', lg.coef_.shape)\n",
    "    #print ('accuracy: ', metrics.accuracy_score(labels, lg.predict(test_data, test_labels)))\n",
    "    \n",
    "    nonzero_features_indices = np.array(np.nonzero(lg.coef_[0])[0])\n",
    "    print ('num of nonzero terms: ', nonzero_features_indices.shape)\n",
    "    \n",
    "    reduced_terms = [features[int(w)] for w in nonzero_features_indices]\n",
    "    if verbose:\n",
    "        print ('non-zero terms:\\n%s' %reduced_terms)\n",
    "    \n",
    "    vect2 = TfidfVectorizer(strip_accents='ascii', ngram_range=(1,1), min_df=2, \n",
    "                            use_idf=False, sublinear_tf=True, \n",
    "                            tokenizer=better_tokenizer, \n",
    "                            vocabulary=reduced_terms)\n",
    "    \n",
    "    return vect2\n",
    "\n",
    "# Get the customized and improved vectorizer\n",
    "verbose = False\n",
    "start = time()\n",
    "#better_vect = NLP_text(verbose)\n",
    "print ('done in ', time() - start, ' s')"
   ]
  },
  {
   "cell_type": "markdown",
   "metadata": {},
   "source": [
    "##### Create a baseline using default CountVectorizer and NB"
   ]
  },
  {
   "cell_type": "raw",
   "metadata": {},
   "source": [
    "v = CountVectorizer(strip_accents='ascii', stop_words='english', min_df=0.001)\n",
    "train_dtm = v.fit_transform(train_data)\n",
    "print (train_dtm.shape)\n",
    "\n",
    "bnb = BernoulliNB(alpha=0.01)\n",
    "bnb.fit(train_dtm, train_labels)\n",
    "predicted = bnb.predict(v.transform(dev_data))\n",
    "\n",
    "print (classification_report(predicted, dev_labels))\n",
    "\n",
    "terms = v.get_feature_names()\n",
    "top100 = np.argsort(bnb.coef_[0])[-100:]\n",
    "print ('top 100 terms:\\n',[terms[int(w)] for w in top100])\n",
    "print ('_'*80)\n",
    "bottom100 = np.argsort(bnb.coef_[0])[:100]\n",
    "print ('least important 100 terms:\\n',[terms[int(w)] for w in bottom100])\n",
    "print ('_'*80)"
   ]
  },
  {
   "cell_type": "markdown",
   "metadata": {},
   "source": [
    "##### Logistic Regression Model\n",
    "\n",
    "In this section, we will train Logistic Regression model."
   ]
  },
  {
   "cell_type": "code",
   "execution_count": 19,
   "metadata": {},
   "outputs": [
    {
     "name": "stdout",
     "output_type": "stream",
     "text": [
      "Number of nonzero weights with l1 penalty is 1968.\n",
      "Number of nonzero weights with l2 penalty is 5372.\n",
      "Best F1 score with L2 regularization is 0.87.\n",
      "The best F1 score is achieved by using the vocabulary size 5018 determined by L1 regularization with C parameter 54.55595\n"
     ]
    },
    {
     "data": {
      "image/png": "[encoded data removed]",
      "text/plain": [
       "<Figure size 720x720 with 1 Axes>"
      ]
     },
     "metadata": {},
     "output_type": "display_data"
    }
   ],
   "source": [
    "def yelp_review_logistic_regression_model(train_data = train_data,\n",
    "                                          train_labels = train_labels,\n",
    "                                          test_data = dev_data,\n",
    "                                          test_labels = dev_labels,\n",
    "                                          seed = 1234):\n",
    "    # Keep this random seed so that this function is reproducible.\n",
    "    np.random.seed(seed)\n",
    "    count_vectorizer = CountVectorizer(strip_accents='ascii', stop_words='english', min_df=0.001)\n",
    "    dtm_train = count_vectorizer.fit_transform(train_data)\n",
    "    # compare the number of nonzero weights from l1 and l2\n",
    "    logistic_l1 = LogisticRegression(penalty=\"l1\")\n",
    "    logistic_l1.fit(dtm_train, train_labels)\n",
    "    # Method 1 using np.nonzero\n",
    "    print(\"Number of nonzero weights with l1 penalty is {:d}.\".format(len(set((np.nonzero(logistic_l1.coef_))[1]))))\n",
    "    logistic_l2 = LogisticRegression(penalty=\"l2\")\n",
    "    logistic_l2.fit(dtm_train, train_labels)\n",
    "    print(\"Number of nonzero weights with l2 penalty is {:d}.\".format(len(set((np.nonzero(logistic_l2.coef_))[1]))))\n",
    "    \n",
    "    # vary C parameters and plot the graph\n",
    "    vocabsizes = []\n",
    "    l1_cs = []\n",
    "    f1_scores = []\n",
    "    for i in np.logspace(-3, 2, num=20):\n",
    "        logistic_l1 = LogisticRegression(penalty=\"l1\", tol=0.01, C=i)\n",
    "        logistic_l1.fit(dtm_train, train_labels)\n",
    "        # features that have at least one non-zero weights under l1 penalty\n",
    "        l1_nonzero_vocab = np.array(count_vectorizer.get_feature_names())[list(set((np.nonzero(logistic_l1.coef_))[1]))]\n",
    "        vocabsizes.append(len(l1_nonzero_vocab))\n",
    "        l1_cs.append(i)\n",
    "        # using vocabulary based on non-zero weights from l1 penalty logistic regression results\n",
    "        vectorizer_with_reduced_vocab = CountVectorizer(vocabulary=l1_nonzero_vocab)\n",
    "        dtm_with_reduced_vocab = vectorizer_with_reduced_vocab.fit_transform(train_data)\n",
    "        dtm_test_with_reduced_vocab = vectorizer_with_reduced_vocab.transform(test_data)\n",
    "        # fit logistic regression with penalty l2\n",
    "        logistic_l2_retrain = LogisticRegression(penalty=\"l2\")\n",
    "        logistic_l2_retrain.fit(dtm_with_reduced_vocab, train_labels)\n",
    "        f1_scores.append(metrics.f1_score(test_labels,\n",
    "                                          logistic_l2_retrain.predict(dtm_test_with_reduced_vocab),\n",
    "                                          average = 'macro'))\n",
    "    \n",
    "    # plot the results\n",
    "    plt.figure(figsize=(10,10))\n",
    "    plt.plot(vocabsizes, f1_scores, 'bo', markersize=15)\n",
    "    plt.title('F1 scores of the re-trained model with l2 vs. the vocabulary size based on l1')\n",
    "    plt.xlabel('Vocabulary size')\n",
    "    plt.ylabel('F1 score')\n",
    "    plt.rcParams[\"font.size\"] = 12\n",
    "    \n",
    "    print(\"Best F1 score with L2 regularization is {:.2f}.\\nThe best F1 score is achieved by using the vocabulary size {:d} determined by L1 regularization with C parameter {:.5f}\"\\\n",
    "          .format(np.max(f1_scores),vocabsizes[np.argmax(f1_scores)],l1_cs[np.argmax(f1_scores)]))\n",
    "\n",
    "yelp_review_logistic_regression_model()    "
   ]
  },
  {
   "cell_type": "markdown",
   "metadata": {},
   "source": [
    "##### Neural Networks\n",
    "\n",
    "In this section, we will train Neural Networks."
   ]
  },
  {
   "cell_type": "code",
   "execution_count": 65,
   "metadata": {},
   "outputs": [
    {
     "name": "stdout",
     "output_type": "stream",
     "text": [
      "Train on 12000 samples, validate on 7700 samples\n",
      "Epoch 1/20\n",
      "12000/12000 [==============================] - 2s 182us/step - loss: 0.5531 - acc: 0.8040 - val_loss: 0.4463 - val_acc: 0.8655\n",
      "Epoch 2/20\n",
      "12000/12000 [==============================] - 1s 80us/step - loss: 0.3699 - acc: 0.8953 - val_loss: 0.3561 - val_acc: 0.8810\n",
      "Epoch 3/20\n",
      "12000/12000 [==============================] - 1s 83us/step - loss: 0.2776 - acc: 0.9160 - val_loss: 0.3195 - val_acc: 0.8858\n",
      "Epoch 4/20\n",
      "12000/12000 [==============================] - 1s 82us/step - loss: 0.2216 - acc: 0.9316 - val_loss: 0.3143 - val_acc: 0.8856\n",
      "Epoch 5/20\n",
      "12000/12000 [==============================] - 1s 81us/step - loss: 0.1846 - acc: 0.9403 - val_loss: 0.3158 - val_acc: 0.8858\n",
      "Epoch 6/20\n",
      "12000/12000 [==============================] - 1s 79us/step - loss: 0.1556 - acc: 0.9484 - val_loss: 0.3284 - val_acc: 0.8843\n",
      "Epoch 7/20\n",
      "12000/12000 [==============================] - 1s 100us/step - loss: 0.1331 - acc: 0.9562 - val_loss: 0.3492 - val_acc: 0.8817\n",
      "Epoch 8/20\n",
      "12000/12000 [==============================] - 1s 104us/step - loss: 0.1140 - acc: 0.9612 - val_loss: 0.3683 - val_acc: 0.8812\n",
      "Epoch 9/20\n",
      "12000/12000 [==============================] - 1s 88us/step - loss: 0.0969 - acc: 0.9698 - val_loss: 0.3978 - val_acc: 0.8795\n",
      "Epoch 10/20\n",
      "12000/12000 [==============================] - 1s 103us/step - loss: 0.0834 - acc: 0.9734 - val_loss: 0.4247 - val_acc: 0.8757\n",
      "Epoch 11/20\n",
      "12000/12000 [==============================] - 1s 106us/step - loss: 0.0712 - acc: 0.9793 - val_loss: 0.4538 - val_acc: 0.8751\n",
      "Epoch 12/20\n",
      "12000/12000 [==============================] - 1s 103us/step - loss: 0.0605 - acc: 0.9835 - val_loss: 0.4978 - val_acc: 0.8731\n",
      "Epoch 13/20\n",
      "12000/12000 [==============================] - 1s 99us/step - loss: 0.0523 - acc: 0.9850 - val_loss: 0.5238 - val_acc: 0.8704\n",
      "Epoch 14/20\n",
      "12000/12000 [==============================] - 1s 89us/step - loss: 0.0435 - acc: 0.9887 - val_loss: 0.5557 - val_acc: 0.8690\n",
      "Epoch 15/20\n",
      "12000/12000 [==============================] - 1s 84us/step - loss: 0.0371 - acc: 0.9908 - val_loss: 0.5993 - val_acc: 0.8677\n",
      "Epoch 16/20\n",
      "12000/12000 [==============================] - 1s 95us/step - loss: 0.0308 - acc: 0.9923 - val_loss: 0.6478 - val_acc: 0.8652\n",
      "Epoch 17/20\n",
      "12000/12000 [==============================] - 1s 94us/step - loss: 0.0260 - acc: 0.9944 - val_loss: 0.6816 - val_acc: 0.8648\n",
      "Epoch 18/20\n",
      "12000/12000 [==============================] - 1s 98us/step - loss: 0.0212 - acc: 0.9952 - val_loss: 0.7129 - val_acc: 0.8662\n",
      "Epoch 19/20\n",
      "12000/12000 [==============================] - 1s 99us/step - loss: 0.0174 - acc: 0.9963 - val_loss: 0.7621 - val_acc: 0.8648\n",
      "Epoch 20/20\n",
      "12000/12000 [==============================] - 1s 87us/step - loss: 0.0143 - acc: 0.9968 - val_loss: 0.8097 - val_acc: 0.8625\n"
     ]
    },
    {
     "data": {
      "image/png": "[encoded data removed]",
      "text/plain": [
       "<Figure size 1080x504 with 2 Axes>"
      ]
     },
     "metadata": {},
     "output_type": "display_data"
    }
   ],
   "source": [
    "def yelp_review_neural_networks():\n",
    "\n",
    "    count_vectorizer = CountVectorizer(strip_accents='ascii', stop_words='english', min_df=0.001)\n",
    "    dtm_train = count_vectorizer.fit_transform(train_data)\n",
    "    dtm_dev = count_vectorizer.transform(dev_data)\n",
    "    dtm_test = count_vectorizer.transform(test_data)\n",
    "\n",
    "    # 1) Building our model with maximum 5,372 words\n",
    "    model = models.Sequential()\n",
    "    model.add(layers.Dense(16, activation='relu', input_shape=(5372,)))\n",
    "    model.add(layers.Dense(16, activation='relu'))\n",
    "    model.add(layers.Dense(1, activation='sigmoid'))\n",
    "\n",
    "    # Use binary_crossentropy loss function because our model outputs probabilities\n",
    "    model.compile(optimizer='rmsprop',\n",
    "                  loss='binary_crossentropy',\n",
    "                  metrics=['accuracy'])\n",
    "\n",
    "    history = model.fit(dtm_train, train_labels, epochs=20, batch_size=512, validation_data=(dtm_dev, dev_labels))\n",
    "    acc = history.history['acc']\n",
    "    val_acc = history.history['val_acc']\n",
    "    loss = history.history['loss']\n",
    "    val_loss = history.history['val_loss']\n",
    "\n",
    "    epochs = range(1, len(acc) + 1)\n",
    "    \n",
    "    # Plot training and validation loss\n",
    "    fig = plt.figure(figsize=(15,7))\n",
    "    ax = fig.add_subplot(1,2,1)\n",
    "    ax.plot(epochs, loss, 'bo', label='Training loss')\n",
    "    ax.plot(epochs, val_loss, 'b', label='Validation loss')\n",
    "    ax.set_title('Training and validation loss')\n",
    "    ax.set_xlabel('Epochs')\n",
    "    ax.set_ylabel('Loss')\n",
    "    \n",
    "    # Plot training and validation accuracy\n",
    "    ax2 = fig.add_subplot(1,2,2)\n",
    "    ax2.plot(epochs, acc, 'bo', label='Training acc')\n",
    "    ax2.plot(epochs, val_acc, 'b', label='Validation acc')\n",
    "    ax2.set_title('Training and validation accuracy')\n",
    "    ax2.set_xlabel('Epochs')\n",
    "    ax2.set_ylabel('Loss')\n",
    "    \n",
    "yelp_review_neural_networks()"
   ]
  },
  {
   "cell_type": "markdown",
   "metadata": {},
   "source": [
    "We see a clear minimum in validation loss function after 3rd epoch, and maximum in validation accuracy at 3rd epoch. We'll fit the model with 3 epochs."
   ]
  },
  {
   "cell_type": "code",
   "execution_count": 66,
   "metadata": {},
   "outputs": [
    {
     "name": "stdout",
     "output_type": "stream",
     "text": [
      "Epoch 1/3\n",
      "12000/12000 [==============================] - 2s 147us/step - loss: 0.5389 - acc: 0.8016\n",
      "Epoch 2/3\n",
      "12000/12000 [==============================] - 1s 60us/step - loss: 0.3572 - acc: 0.8955\n",
      "Epoch 3/3\n",
      "12000/12000 [==============================] - 1s 66us/step - loss: 0.2737 - acc: 0.9166\n",
      "7700/7700 [==============================] - 1s 156us/step\n",
      "Accuracy of Neural Network classifier is 0.89\n"
     ]
    }
   ],
   "source": [
    "def yelp_review_neural_networks():\n",
    "\n",
    "    count_vectorizer = CountVectorizer(strip_accents='ascii', stop_words='english', min_df=0.001)\n",
    "    dtm_train = count_vectorizer.fit_transform(train_data)\n",
    "    dtm_dev = count_vectorizer.transform(dev_data)\n",
    "    dtm_test = count_vectorizer.transform(test_data)\n",
    "\n",
    "    # 1) Building our model with maximum 5,372 words\n",
    "    model = models.Sequential()\n",
    "    model.add(layers.Dense(16, activation='relu', input_shape=(5372,)))\n",
    "    model.add(layers.Dense(16, activation='relu'))\n",
    "    model.add(layers.Dense(1, activation='sigmoid'))\n",
    "\n",
    "    # Use binary_crossentropy loss function because our model outputs probabilities\n",
    "    model.compile(optimizer='rmsprop',\n",
    "                  loss='binary_crossentropy',\n",
    "                  metrics=['accuracy'])\n",
    "\n",
    "    model.fit(dtm_train, train_labels, epochs=3, batch_size=512)\n",
    "    results = model.evaluate(dtm_dev, dev_labels)\n",
    "    print(\"Accuracy of Neural Network classifier is\", \"{:.2f}\".format(results[1]))\n",
    "    \n",
    "yelp_review_neural_networks()"
   ]
  }
 ],
 "metadata": {
  "kernelspec": {
   "display_name": "Python 3",
   "language": "python",
   "name": "python3"
  },
  "language_info": {
   "codemirror_mode": {
    "name": "ipython",
    "version": 3
   },
   "file_extension": ".py",
   "mimetype": "text/x-python",
   "name": "python",
   "nbconvert_exporter": "python",
   "pygments_lexer": "ipython3",
   "version": "3.6.5"
  }
 },
 "nbformat": 4,
 "nbformat_minor": 2
}
