{
 "cells": [
  {
   "cell_type": "markdown",
   "metadata": {},
   "source": [
    "## Classifying and Natural Language Processing with Yelp Reviews Data\n",
    "#### W207 Section 3, Group - <span style=\"color:orange\"><strong>C</strong></span>olors\n",
    "#### Summer, 2018\n",
    "#### Team members:\n",
    "- Chandra Sekar, chandra-sekar@ischool.berkeley.edu\n",
    "- Guangyu (Gary) Pei, guangyu.pei@ischool.berkeley.edu\n",
    "- Jooyeon (Irene) Seo, jooyeon@ischool.berkeley.edu\n",
    "- Sijie (Anne) Yu, syu.anne@berkeley.edu"
   ]
  },
  {
   "cell_type": "code",
   "execution_count": 2,
   "metadata": {},
   "outputs": [
    {
     "name": "stdout",
     "output_type": "stream",
     "text": [
      "Python version used: 3.5.2 (default, Nov 23 2017, 16:37:01) \n",
      "[GCC 5.4.0 20160609]\n",
      "Numpy version used: 1.14.3\n",
      "sklearn version used: 0.19.1\n"
     ]
    }
   ],
   "source": [
    "# General libraries.\n",
    "%matplotlib inline\n",
    "import numpy as np\n",
    "import matplotlib.pyplot as plt\n",
    "import pandas as pd\n",
    "import time\n",
    "import re\n",
    "import sys\n",
    "import warnings\n",
    "warnings.filterwarnings(\"ignore\", category=DeprecationWarning)\n",
    "\n",
    "# SK-learn libraries for learning.\n",
    "import sklearn\n",
    "from sklearn.pipeline import Pipeline\n",
    "from sklearn.neighbors import KNeighborsClassifier\n",
    "from sklearn.linear_model import LogisticRegression\n",
    "from sklearn.naive_bayes import BernoulliNB\n",
    "from sklearn.naive_bayes import MultinomialNB\n",
    "from sklearn.grid_search import GridSearchCV\n",
    "\n",
    "# SK-learn libraries for evaluation.\n",
    "from sklearn.metrics import confusion_matrix\n",
    "from sklearn import metrics\n",
    "from sklearn.metrics import classification_report\n",
    "\n",
    "# SK-learn libraries for feature extraction from text.\n",
    "from sklearn.feature_extraction.text import *\n",
    "\n",
    "# Config Jupyter session\n",
    "%config IPCompleter.greedy=True\n",
    "\n",
    "# Set the randomizer seed so results are the same each time.\n",
    "np.random.seed(0)\n",
    "\n",
    "# Global configurations\n",
    "np.set_printoptions(precision=4, suppress=True)\n",
    "\n",
    "# Config system logs\n",
    "import logging\n",
    "logging.basicConfig(level=logging.INFO,\n",
    "                   format='%(asctime)s %(levelname)s %(message)s')\n",
    "\n",
    "# print versions\n",
    "print(\"Python version used:\", sys.version)\n",
    "print(\"Numpy version used:\", np.__version__)\n",
    "print(\"sklearn version used:\", sklearn.__version__)"
   ]
  },
  {
   "cell_type": "markdown",
   "metadata": {},
   "source": [
    "#### Goals\n",
    "Our project’s primary concept is to utilize Yelp data (from kaggle) to rate new business. That is, we are going to get Yelp user review data, use review texts to predict review is **positive** or **negative**. When people talk about a new business, we can capture their words, fit into the model, then predict its rating, sort of understand its quality and potential.\n",
    "\n",
    "#### The Yelp Review Dataset\n",
    "We write a shell [script](https://github.com/annesjyu/m207_summer_2018) to select $10,000$ reviews for training, testing and dev respectively, each set consisting in 50% negative and 50% positive reviews. We keep only review text and stars columns, then binarize stars into target label: \n",
    "- if starts >= $3.0$, review is *positive*\n",
    "- otherwise, it's *negative*.\n",
    "\n",
    "The following code will load the dataset and split it into $3$ sets:"
   ]
  },
  {
   "cell_type": "code",
   "execution_count": 3,
   "metadata": {},
   "outputs": [
    {
     "name": "stdout",
     "output_type": "stream",
     "text": [
      "Full data dim:  (29701, 2)\n",
      "train data size:  12000\n",
      "test data size:  10000\n",
      "dev data size:  7700\n",
      "________________________________________________________________________________\n",
      "Training examples:\n",
      " ['Orange Blossom Beer is the best  However atmosphere and Service (Female Bartender/Server) were really bad... Go to Chevron get a growler  go home and Enjoy!!! '\n",
      " \"Tried this place one time shortly after they opened.   I wasn't really impressed with their food. The place did look neat and clean and the staff was very friendly.  Although I wasn't impressed with my one visit based on the customer service I'll probably try it again at some point. \"]\n",
      "[0 1]\n",
      "________________________________________________________________________________\n",
      "Testing examples:\n",
      " ['Not worth going to. I ordered a ramen and the chicken was very dry and over done  the soup was way too salty and tasted very artificial as well. Definitely way better ramen shops in the gta. The chicken bao was absolutely horrible because  1. It was way too spicy  and 2. Way too dry. It burnt my mouth and stomach the whole night. '\n",
      " 'Service was horrible! Some European lady with an accent came to take our order and right in the middle of my order she walked away and helped someone else! I called her back to ask her if we could finish our order. She rudely complied.. I was sitting on the far left of the bar and I could clearly see the kitchen. The server was sitting on a keg taking off her shoes and picking dirt from in between her toes.. I then saw her place carrots and celery with her dirty foot fingers into our plates! DISGUSTING! Food was alright. Will not be coming here again I DO NOT RECOMMEND THIS PLACE ']\n",
      "[0 0]\n",
      "________________________________________________________________________________\n",
      "Dev examples:\n",
      " ['Absolute ripoff and terrible customer service! I went here for a bachelor party as I was told it was an upscale gentlemen\\'s club. After the $50 cover charge we found the place went downhill from there. We had one of the entertainers lie to us in order to go into the so called VIP area with a promise of 1 full hour of performances and 10 drinks included for $450. Then we were hustled further by being charged a 15% service fee and a 20% gratuity at the VIP entry in advanced \"\"before\"\" even being seated. What a joke!!!! Once in there we ordered a round of 3 drinks and it came out to $80. We challenged this charge stating we were told the first 10 drinks would be included! A lie from our entertainer Mariah!!! After performing for about 15-20 minutes Mariah said she was done. What about the hour that was promised? She then stated it was only half an hour and it was \"\"her bad\"\". We were very upset at this point because we were basically robbed of $700 over the course of 20 minutes! I then called Nicole later that day to dispute the charges  her response was that we should not have trusted anything that their entertainers said or promised. She said that they were independent contractors and they could say whatever they want. Even though they work under Crazyhorse 3\\'s roof. I was like really? I couldn\\'t believe it!!! Then she had our VIP host Darius call me later that day. Another total waste of time!!! He offered me a 200 gift card to use at the club. Basically an admission of guilt. Why would he offer us a $200 gift card if we weren\\'t lied to? Plus that\\'s not even close to the $700 we were hustled out of. I made it abundantly clear to him that I had no desire to go back to a place that rips people off. I asked for a full refund that I felt I was entitled to. I even told them to keep the $80 for the drinks I was misrepresented about. He promised that he would talk to his boss to get back to me within 24 hours. Another Crazyhorse 3 lie. It\\'s been almost 2 weeks and what a surprise  no response from Darius. I\\'ve left him three voicemails and three text messages with not as much as one response. This place is a rip off and the customer service is a joke. Don\\'t waste your time  patience  or money. I should\\'ve read their yelp reviews before I went. Browse through and you will see that they consistently rip people off. Pretty awful business practices. '\n",
      " 'Recommend that you stay somewhere else! Older property. Most of the staff just going through the motions. Bed was too firm for us. ']\n",
      "[0 0]\n"
     ]
    }
   ],
   "source": [
    "with np.warnings.catch_warnings():\n",
    "    # There are some bad data, we just dont want to see a lot of warning messages\n",
    "    np.warnings.filterwarnings('ignore', r'Some errors were detected')\n",
    "    data = np.genfromtxt('data.csv',dtype='str', delimiter='|', skip_header=1, \n",
    "                         usecols = (0,1), invalid_raise=False, loose=True)\n",
    "\n",
    "    print (\"Full data dim: \", data.shape)\n",
    "    \n",
    "    # Shuffle the data, each dataset will have roughly the same number of examples for each label.\n",
    "    shuffle = np.random.permutation(np.arange(data.shape[0]))\n",
    "    X, Y = data[shuffle, 0], data[shuffle, 1]    \n",
    "    \n",
    "    train_data, train_labels = X[0:12000], Y[:12000].astype(np.int)\n",
    "    test_data, test_labels = X[12000:22000], Y[12000:22000].astype(np.int)\n",
    "    dev_data, dev_labels = X[22000:-1], Y[22000:-1].astype(np.int)\n",
    "\n",
    "    NUM_OF_TRAINING_DATA = len(train_data)\n",
    "    NUM_OF_TESTING_DATA = len(test_data)\n",
    "    NUM_OF_DEV_DATA = len(dev_data)\n",
    "\n",
    "    print ('train data size: ', NUM_OF_TRAINING_DATA)\n",
    "    print ('test data size: ', NUM_OF_TESTING_DATA)\n",
    "    print ('dev data size: ', NUM_OF_DEV_DATA)\n",
    "    print ('_'*80)\n",
    "    print ('Training examples:\\n', train_data[0:2])\n",
    "    print (train_labels[0:2])\n",
    "    print ('_'*80)\n",
    "    print ('Testing examples:\\n', test_data[0:2])\n",
    "    print (test_labels[0:2])\n",
    "    print ('_'*80)\n",
    "    print ('Dev examples:\\n', dev_data[0:2])\n",
    "    print (dev_labels[0:2])"
   ]
  },
  {
   "cell_type": "markdown",
   "metadata": {},
   "source": [
    "Analyze train, dev and test datasets to find out data distributions. Ideally we want to have 50% examples for either label."
   ]
  },
  {
   "cell_type": "code",
   "execution_count": 4,
   "metadata": {},
   "outputs": [
    {
     "name": "stdout",
     "output_type": "stream",
     "text": [
      "positive train data:  6050 , negative train data:  5950\n",
      "positive test data:  5000 , negative test data:  5000\n",
      "positive dev data:  3812 , negative dev data:  3888\n"
     ]
    }
   ],
   "source": [
    "print ('positive train data: ', len(np.where(train_labels==1)[0]), \n",
    "       ', negative train data: ', len(np.where(train_labels==0)[0]))\n",
    "print ('positive test data: ', len(np.where(test_labels==1)[0]), \n",
    "       ', negative test data: ', len(np.where(test_labels==0)[0]))\n",
    "print ('positive dev data: ', len(np.where(dev_labels==1)[0]), \n",
    "       ', negative dev data: ', len(np.where(dev_labels==0)[0]))"
   ]
  },
  {
   "cell_type": "code",
   "execution_count": 3,
   "metadata": {},
   "outputs": [
    {
     "name": "stdout",
     "output_type": "stream",
     "text": [
      "Total data size: 30000\n",
      "train data size:  (24000,)\n",
      "test data size:  (4999,)\n",
      "dev data size:  (1000,)\n"
     ]
    }
   ],
   "source": [
    "def load_data(fnm = \"data_restaurants_reviews_30_to_200_stars_1_5\", seed = 1234,\n",
    "              train_frac= 0.8, dev_size = 1000):\n",
    "    data = pd.read_pickle(fnm)\n",
    "    np.random.seed(seed)\n",
    "    data = data.sample(frac=1).reset_index(drop=True)\n",
    "    print (\"Total data size:\", data.shape[0])\n",
    "    traing_size = int(np.floor(data.shape[0]*train_frac))\n",
    "    test_size = int(np.floor(data.shape[0]*(1.0-train_frac))) - dev_size\n",
    "    train_data, train_labels = data.X[0:traing_size], data.Y[0:traing_size]\n",
    "    test_data, test_labels = data.X[traing_size:(traing_size+test_size)], data.Y[traing_size:(traing_size+test_size)]\n",
    "    dev_data, dev_labels = data.X[(traing_size+test_size):-1], data.Y[(traing_size+test_size):-1]\n",
    "    return train_data, train_labels, test_data, test_labels, dev_data, dev_labels\n",
    "    \n",
    "\n",
    "train_data, train_labels, test_data, test_labels, dev_data, dev_labels = load_data()\n",
    "\n",
    "print ('train data size: ', train_data.shape)\n",
    "print ('test data size: ', test_data.shape)\n",
    "print ('dev data size: ', dev_data.shape)"
   ]
  },
  {
   "cell_type": "markdown",
   "metadata": {},
   "source": [
    "#### Natural Language Processing on Review Texts\n",
    "\n",
    "We will create a doc-term matrix from review texts, so that classifiers can use it as an feature. There are a couple of steps of doing it. \n",
    "- First of all we will conduct Natural Language Processing with customized stemmer, stop words etc. \n",
    "- Secondly we will use Logistic Regression + L1 Regulization to reduce non-important terms."
   ]
  },
  {
   "cell_type": "code",
   "execution_count": 65,
   "metadata": {},
   "outputs": [
    {
     "name": "stdout",
     "output_type": "stream",
     "text": [
      "done in  3.0040740966796875e-05  s\n"
     ]
    }
   ],
   "source": [
    "from nltk.stem.porter import PorterStemmer\n",
    "from stop_words import get_stop_words\n",
    "\n",
    "categories = ['Positive reviews', 'Negative reviews']\n",
    "\n",
    "def NLP_text(verbose):\n",
    "    \"\"\"The function will take a vector of texts and create a Doc-Term Matrix.\n",
    "    Input:\n",
    "        verbose: if true, will print debug info.\n",
    "    Output:\n",
    "        a customized vectorizer object.\n",
    "    \"\"\"    \n",
    "    def better_tokenizer(s):\n",
    "        tokens = TfidfVectorizer().build_tokenizer()(s)\n",
    "        # create English stop words list\n",
    "        stop_words = get_stop_words('en')\n",
    "        \n",
    "        # Create p_stemmer of class PorterStemmer\n",
    "        p_stemmer = PorterStemmer()\n",
    "        \n",
    "        # We compute the average length of original dictionary, which is 6.7\n",
    "        # then ignore extremly short and long words, like more than 6.7/2 and 6.7*2.\n",
    "        WORD_LEN = 6.7\n",
    "        \n",
    "        return [p_stemmer.stem(t) for t in tokens if len(t) >= WORD_LEN/2 \n",
    "                and len(t) <= WORD_LEN*2 and t not in stop_words]\n",
    "           \n",
    "    shuffle = np.random.permutation(train_data.shape[0])\n",
    "    X, Y = train_data[shuffle], train_labels[shuffle]\n",
    "    TUNE_DATA_SIZE = int(len(train_data)/6)\n",
    "    data = X[0:TUNE_DATA_SIZE]\n",
    "    labels = Y[0:TUNE_DATA_SIZE]\n",
    "    \n",
    "    vect1 = TfidfVectorizer(strip_accents='ascii', ngram_range=(1,1), min_df=2, \n",
    "                            stop_words='english', use_idf=False, sublinear_tf=True, \n",
    "                            max_features=10000, tokenizer=better_tokenizer)\n",
    "    \n",
    "    data_dtm = vect1.fit_transform(data)\n",
    "    features = vect1.get_feature_names()\n",
    "    print ('num of original terms: ', len(features))\n",
    "\n",
    "    # Reduce terms using Logistic Regression + L1 regulirization\n",
    "    # If the the term has a non-zero weight we will keep it, otherwise, exclude it from DTM.\n",
    "    Logistic_Regression_optimal_C = 10\n",
    "    lg = LogisticRegression(penalty=\"l1\", tol=0.01, C=Logistic_Regression_optimal_C)\n",
    "    lg.fit(data_dtm, labels)\n",
    "    print ('dim of coef matrix: ', lg.coef_.shape)\n",
    "    #print ('accuracy: ', metrics.accuracy_score(labels, lg.predict(test_data, test_labels)))\n",
    "    \n",
    "    nonzero_features_indices = np.array(np.nonzero(lg.coef_[0])[0])\n",
    "    print ('num of nonzero terms: ', nonzero_features_indices.shape)\n",
    "    \n",
    "    reduced_terms = [features[int(w)] for w in nonzero_features_indices]\n",
    "    if verbose:\n",
    "        print ('non-zero terms:\\n%s' %reduced_terms)\n",
    "    \n",
    "    vect2 = TfidfVectorizer(strip_accents='ascii', ngram_range=(1,1), min_df=2, \n",
    "                            use_idf=False, sublinear_tf=True, \n",
    "                            tokenizer=better_tokenizer, \n",
    "                            vocabulary=reduced_terms)\n",
    "    \n",
    "    return vect2\n",
    "\n",
    "# Get the customized and improved vectorizer\n",
    "verbose = False\n",
    "start = time()\n",
    "#better_vect = NLP_text(verbose)\n",
    "print ('done in ', time() - start, ' s')"
   ]
  },
  {
   "cell_type": "markdown",
   "metadata": {},
   "source": [
    "##### Create a baseline using default CountVectorizer and NB"
   ]
  },
  {
   "cell_type": "code",
   "execution_count": 114,
   "metadata": {},
   "outputs": [
    {
     "name": "stdout",
     "output_type": "stream",
     "text": [
      "(12000, 5303)\n",
      "             precision    recall  f1-score   support\n",
      "\n",
      "          0       0.76      0.87      0.81      3372\n",
      "          1       0.89      0.79      0.84      4328\n",
      "\n",
      "avg / total       0.83      0.83      0.83      7700\n",
      "\n",
      "top 100 terms:\n",
      " ['kind', 'stars', 'different', 'favorite', 'probably', 'took', 'perfect', 'dinner', 'table', 'worth', 'hot', 'sweet', 'vegas', 'inside', 'home', 'bad', 'need', 'meal', 'drinks', 'salad', 'excellent', 'work', 'feel', 'quite', 'awesome', 'tried', 'happy', 'overall', 'cheese', 'long', 'location', 'thing', 'clean', 'looking', 'price', 'prices', 'wasn', 'big', 'lunch', 'sauce', 'night', 'super', 'eat', 'times', 'new', 'bar', 'lot', 'say', 'want', 'bit', 'fresh', 'day', 'll', 'wait', 'going', 'sure', 'small', 'experience', 'know', 'area', 'way', 'think', 'right', 'better', 'chicken', 'went', 'recommend', 'amazing', 'order', 'restaurant', 'didn', 'came', 'people', 'did', 'menu', 'make', 'ordered', 'pretty', 'delicious', 'come', 'got', 'staff', 'try', 'definitely', 'little', 'love', 'friendly', 'best', 'don', 've', 'nice', 'really', 'time', 'just', 'service', 'like', 'food', 'great', 'place', 'good']\n",
      "________________________________________________________________________________\n",
      "lest important 100 terms:\n",
      " ['owed', 'billing', 'expired', 'threatened', 'ripoff', 'incompetent', 'dissatisfied', 'flagged', 'disrespected', 'dispute', 'compensation', 'rudest', '800', 'operate', 'dishonest', 'disgusted', 'nur', 'cox', 'horrendous', 'refusing', 'canceling', 'liars', 'subpar', 'racist', 'blatantly', 'blamed', 'ignorant', 'denied', 'wouldnt', 'actions', 'arrogant', 'reads', 'insult', 'shaking', 'demanded', 'appalled', 'crawling', 'mush', 'supervisor', 'scum', 'placing', 'pathetic', 'proceed', 'refunded', 'drain', 'refunds', 'counted', 'uns', 'sarcastic', 'scam', 'determined', 'indifferent', 'abysmal', 'wilted', 'valid', 'unappetizing', 'slowest', 'insulted', 'tape', 'als', 'downhill', 'voicemail', '21st', 'approved', 'letters', 'reported', 'defensive', 'clarify', 'threatening', 'billed', 'nach', 'belongings', 'belong', 'canceled', 'pouring', 'tenants', 'grossed', 'argue', 'vomit', 'headache', 'quit', 'wasting', 'sheets', 'false', 'individuals', 'notified', 'periods', 'attempts', 'hr', 'joking', 'redeeming', 'statement', 'inattentive', 'meantime', 'application', 'patron', 'contacting', 'ur', 'costing', 'confirmed']\n",
      "________________________________________________________________________________\n"
     ]
    }
   ],
   "source": [
    "v = CountVectorizer(strip_accents='ascii', stop_words='english', min_df=0.001)\n",
    "train_dtm = v.fit_transform(train_data)\n",
    "print (train_dtm.shape)\n",
    "\n",
    "bnb = BernoulliNB(alpha=0.01)\n",
    "bnb.fit(train_dtm, train_labels)\n",
    "predicted = bnb.predict(v.transform(dev_data))\n",
    "\n",
    "print (classification_report(predicted, dev_labels))\n",
    "\n",
    "terms = v.get_feature_names()\n",
    "top100 = np.argsort(bnb.coef_[0])[-100:]\n",
    "print ('top 100 terms:\\n',[terms[int(w)] for w in top100])\n",
    "print ('_'*80)\n",
    "bottom100 = np.argsort(bnb.coef_[0])[:100]\n",
    "print ('lest important 100 terms:\\n',[terms[int(w)] for w in bottom100])\n",
    "print ('_'*80)"
   ]
  },
  {
   "cell_type": "markdown",
   "metadata": {},
   "source": [
    "##### Logistic Regression Model\n",
    "\n",
    "In this section, we will train Logistic Regression model."
   ]
  },
  {
   "cell_type": "code",
   "execution_count": 12,
   "metadata": {},
   "outputs": [
    {
     "name": "stdout",
     "output_type": "stream",
     "text": [
      "Number of nonzero weights with l1 penalty is 1461.\n",
      "Number of nonzero weights with l2 penalty is 3976.\n",
      "Best F1 score with L2 regularization is 0.95.\n",
      "The best F1 score is achieved by using the vocabulary size 3329 determined by L1 regularization with C parameter 8.85867\n"
     ]
    },
    {
     "data": {
      "image/png": "[encoded data removed]",
      "text/plain": [
       "<Figure size 720x720 with 1 Axes>"
      ]
     },
     "metadata": {},
     "output_type": "display_data"
    }
   ],
   "source": [
    "def yelp_review_logistic_regression_model(train_data = train_data,\n",
    "                                          train_labels = train_labels,\n",
    "                                          test_data = dev_data,\n",
    "                                          test_labels = dev_labels,\n",
    "                                          seed = 1234):\n",
    "    # Keep this random seed so that this function is reproducible.\n",
    "    np.random.seed(seed)\n",
    "    count_vectorizer = CountVectorizer(strip_accents='ascii', stop_words='english', min_df=0.001)\n",
    "    dtm_train = count_vectorizer.fit_transform(train_data)\n",
    "    # compare the number of nonzero weights from l1 and l2\n",
    "    logistic_l1 = LogisticRegression(penalty=\"l1\")\n",
    "    logistic_l1.fit(dtm_train, train_labels)\n",
    "    # Method 1 using np.nonzero\n",
    "    print(\"Number of nonzero weights with l1 penalty is {:d}.\".format(len(set((np.nonzero(logistic_l1.coef_))[1]))))\n",
    "    logistic_l2 = LogisticRegression(penalty=\"l2\")\n",
    "    logistic_l2.fit(dtm_train, train_labels)\n",
    "    print(\"Number of nonzero weights with l2 penalty is {:d}.\".format(len(set((np.nonzero(logistic_l2.coef_))[1]))))\n",
    "    \n",
    "    # vary C parameters and plot the graph\n",
    "    vocabsizes = []\n",
    "    l1_cs = []\n",
    "    f1_scores = []\n",
    "    for i in np.logspace(-3, 2, num=20):\n",
    "        logistic_l1 = LogisticRegression(penalty=\"l1\", tol=0.01, C=i)\n",
    "        logistic_l1.fit(dtm_train, train_labels)\n",
    "        # features that have at least one non-zero weights under l1 penalty\n",
    "        l1_nonzero_vocab = np.array(count_vectorizer.get_feature_names())[list(set((np.nonzero(logistic_l1.coef_))[1]))]\n",
    "        vocabsizes.append(len(l1_nonzero_vocab))\n",
    "        l1_cs.append(i)\n",
    "        # using vocabulary based on non-zero weights from l1 penalty logistic regression results\n",
    "        vectorizer_with_reduced_vocab = CountVectorizer(vocabulary=l1_nonzero_vocab)\n",
    "        dtm_with_reduced_vocab = vectorizer_with_reduced_vocab.fit_transform(train_data)\n",
    "        dtm_test_with_reduced_vocab = vectorizer_with_reduced_vocab.transform(test_data)\n",
    "        # fit logistic regression with penalty l2\n",
    "        logistic_l2_retrain = LogisticRegression(penalty=\"l2\")\n",
    "        logistic_l2_retrain.fit(dtm_with_reduced_vocab, train_labels)\n",
    "        f1_scores.append(metrics.f1_score(test_labels,\n",
    "                                          logistic_l2_retrain.predict(dtm_test_with_reduced_vocab),\n",
    "                                          average = 'macro'))\n",
    "    \n",
    "    # plot the results\n",
    "    plt.figure(figsize=(10,10))\n",
    "    plt.plot(vocabsizes, f1_scores, 'bo', markersize=15)\n",
    "    plt.title('F1 scores of the re-trained model with l2 vs. the vocabulary size based on l1')\n",
    "    plt.xlabel('Vocabulary size')\n",
    "    plt.ylabel('F1 score')\n",
    "    plt.rcParams[\"font.size\"] = 12\n",
    "    \n",
    "    print(\"Best F1 score with L2 regularization is {:.2f}.\\nThe best F1 score is achieved by using the vocabulary size {:d} determined by L1 regularization with C parameter {:.5f}\"\\\n",
    "          .format(np.max(f1_scores),vocabsizes[np.argmax(f1_scores)],l1_cs[np.argmax(f1_scores)]))\n",
    "\n",
    "yelp_review_logistic_regression_model()    "
   ]
  },
  {
   "cell_type": "markdown",
   "metadata": {},
   "source": [
    "### Appendix: Exploratory Data Analysis\n",
    "\n",
    "In this section, we present the Exploratory Data Analysis (EDA) for the Yelp review data set. The goals of EDA are: (1) understand the dataset characteristics; (2) identify the relationship between Yelp ratings and business quality such that meanful and practical supervised machine learning data set is constructed.\n",
    "\n",
    "#### Load the raw data set into Pandas data frame"
   ]
  },
  {
   "cell_type": "code",
   "execution_count": 3,
   "metadata": {},
   "outputs": [
    {
     "name": "stdout",
     "output_type": "stream",
     "text": [
      "Reading all cvs files took  75.54727172851562 s\n"
     ]
    }
   ],
   "source": [
    "start_time=time.time()\n",
    "business=pd.read_csv(\"yelp_dataset/yelp_business.csv\")\n",
    "business_attributes=pd.read_csv(\"yelp_dataset/yelp_business_attributes.csv\")\n",
    "business_hours=pd.read_csv(\"yelp_dataset/yelp_business_hours.csv\")\n",
    "check_in=pd.read_csv(\"yelp_dataset/yelp_checkin.csv\")\n",
    "reviews=pd.read_csv(\"yelp_dataset/yelp_review.csv\", nrows=17746270)\n",
    "tip=pd.read_csv(\"yelp_dataset/yelp_tip.csv\")\n",
    "user=pd.read_csv(\"yelp_dataset/yelp_user.csv\")\n",
    "end_time=time.time()\n",
    "print(\"Reading all cvs files took \",end_time-start_time,\"s\")"
   ]
  },
  {
   "cell_type": "code",
   "execution_count": 4,
   "metadata": {},
   "outputs": [
    {
     "name": "stdout",
     "output_type": "stream",
     "text": [
      "Number of reviews 5261668\n"
     ]
    },
    {
     "data": {
      "text/html": [
       "<div>\n",
       "<style scoped>\n",
       "    .dataframe tbody tr th:only-of-type {\n",
       "        vertical-align: middle;\n",
       "    }\n",
       "\n",
       "    .dataframe tbody tr th {\n",
       "        vertical-align: top;\n",
       "    }\n",
       "\n",
       "    .dataframe thead th {\n",
       "        text-align: right;\n",
       "    }\n",
       "</style>\n",
       "<table border=\"1\" class=\"dataframe\">\n",
       "  <thead>\n",
       "    <tr style=\"text-align: right;\">\n",
       "      <th></th>\n",
       "      <th>review_id</th>\n",
       "      <th>user_id</th>\n",
       "      <th>business_id</th>\n",
       "      <th>stars</th>\n",
       "      <th>date</th>\n",
       "      <th>text</th>\n",
       "      <th>useful</th>\n",
       "      <th>funny</th>\n",
       "      <th>cool</th>\n",
       "    </tr>\n",
       "  </thead>\n",
       "  <tbody>\n",
       "    <tr>\n",
       "      <th>0</th>\n",
       "      <td>vkVSCC7xljjrAI4UGfnKEQ</td>\n",
       "      <td>bv2nCi5Qv5vroFiqKGopiw</td>\n",
       "      <td>AEx2SYEUJmTxVVB18LlCwA</td>\n",
       "      <td>5</td>\n",
       "      <td>2016-05-28</td>\n",
       "      <td>Super simple place but amazing nonetheless. It...</td>\n",
       "      <td>0</td>\n",
       "      <td>0</td>\n",
       "      <td>0</td>\n",
       "    </tr>\n",
       "    <tr>\n",
       "      <th>1</th>\n",
       "      <td>n6QzIUObkYshz4dz2QRJTw</td>\n",
       "      <td>bv2nCi5Qv5vroFiqKGopiw</td>\n",
       "      <td>VR6GpWIda3SfvPC-lg9H3w</td>\n",
       "      <td>5</td>\n",
       "      <td>2016-05-28</td>\n",
       "      <td>Small unassuming place that changes their menu...</td>\n",
       "      <td>0</td>\n",
       "      <td>0</td>\n",
       "      <td>0</td>\n",
       "    </tr>\n",
       "    <tr>\n",
       "      <th>2</th>\n",
       "      <td>MV3CcKScW05u5LVfF6ok0g</td>\n",
       "      <td>bv2nCi5Qv5vroFiqKGopiw</td>\n",
       "      <td>CKC0-MOWMqoeWf6s-szl8g</td>\n",
       "      <td>5</td>\n",
       "      <td>2016-05-28</td>\n",
       "      <td>Lester's is located in a beautiful neighborhoo...</td>\n",
       "      <td>0</td>\n",
       "      <td>0</td>\n",
       "      <td>0</td>\n",
       "    </tr>\n",
       "    <tr>\n",
       "      <th>3</th>\n",
       "      <td>IXvOzsEMYtiJI0CARmj77Q</td>\n",
       "      <td>bv2nCi5Qv5vroFiqKGopiw</td>\n",
       "      <td>ACFtxLv8pGrrxMm6EgjreA</td>\n",
       "      <td>4</td>\n",
       "      <td>2016-05-28</td>\n",
       "      <td>Love coming here. Yes the place always needs t...</td>\n",
       "      <td>0</td>\n",
       "      <td>0</td>\n",
       "      <td>0</td>\n",
       "    </tr>\n",
       "    <tr>\n",
       "      <th>4</th>\n",
       "      <td>L_9BTb55X0GDtThi6GlZ6w</td>\n",
       "      <td>bv2nCi5Qv5vroFiqKGopiw</td>\n",
       "      <td>s2I_Ni76bjJNK9yG60iD-Q</td>\n",
       "      <td>4</td>\n",
       "      <td>2016-05-28</td>\n",
       "      <td>Had their chocolate almond croissant and it wa...</td>\n",
       "      <td>0</td>\n",
       "      <td>0</td>\n",
       "      <td>0</td>\n",
       "    </tr>\n",
       "  </tbody>\n",
       "</table>\n",
       "</div>"
      ],
      "text/plain": [
       "                review_id                 user_id             business_id  \\\n",
       "0  vkVSCC7xljjrAI4UGfnKEQ  bv2nCi5Qv5vroFiqKGopiw  AEx2SYEUJmTxVVB18LlCwA   \n",
       "1  n6QzIUObkYshz4dz2QRJTw  bv2nCi5Qv5vroFiqKGopiw  VR6GpWIda3SfvPC-lg9H3w   \n",
       "2  MV3CcKScW05u5LVfF6ok0g  bv2nCi5Qv5vroFiqKGopiw  CKC0-MOWMqoeWf6s-szl8g   \n",
       "3  IXvOzsEMYtiJI0CARmj77Q  bv2nCi5Qv5vroFiqKGopiw  ACFtxLv8pGrrxMm6EgjreA   \n",
       "4  L_9BTb55X0GDtThi6GlZ6w  bv2nCi5Qv5vroFiqKGopiw  s2I_Ni76bjJNK9yG60iD-Q   \n",
       "\n",
       "   stars        date                                               text  \\\n",
       "0      5  2016-05-28  Super simple place but amazing nonetheless. It...   \n",
       "1      5  2016-05-28  Small unassuming place that changes their menu...   \n",
       "2      5  2016-05-28  Lester's is located in a beautiful neighborhoo...   \n",
       "3      4  2016-05-28  Love coming here. Yes the place always needs t...   \n",
       "4      4  2016-05-28  Had their chocolate almond croissant and it wa...   \n",
       "\n",
       "   useful  funny  cool  \n",
       "0       0      0     0  \n",
       "1       0      0     0  \n",
       "2       0      0     0  \n",
       "3       0      0     0  \n",
       "4       0      0     0  "
      ]
     },
     "execution_count": 4,
     "metadata": {},
     "output_type": "execute_result"
    }
   ],
   "source": [
    "print(\"Number of reviews {:d}\".format(reviews.shape[0]))\n",
    "reviews.head(5)"
   ]
  },
  {
   "cell_type": "code",
   "execution_count": 5,
   "metadata": {},
   "outputs": [
    {
     "name": "stdout",
     "output_type": "stream",
     "text": [
      "Number of business 174567.\n"
     ]
    },
    {
     "data": {
      "text/html": [
       "<div>\n",
       "<style scoped>\n",
       "    .dataframe tbody tr th:only-of-type {\n",
       "        vertical-align: middle;\n",
       "    }\n",
       "\n",
       "    .dataframe tbody tr th {\n",
       "        vertical-align: top;\n",
       "    }\n",
       "\n",
       "    .dataframe thead th {\n",
       "        text-align: right;\n",
       "    }\n",
       "</style>\n",
       "<table border=\"1\" class=\"dataframe\">\n",
       "  <thead>\n",
       "    <tr style=\"text-align: right;\">\n",
       "      <th></th>\n",
       "      <th>business_id</th>\n",
       "      <th>name</th>\n",
       "      <th>neighborhood</th>\n",
       "      <th>address</th>\n",
       "      <th>city</th>\n",
       "      <th>state</th>\n",
       "      <th>postal_code</th>\n",
       "      <th>latitude</th>\n",
       "      <th>longitude</th>\n",
       "      <th>stars</th>\n",
       "      <th>review_count</th>\n",
       "      <th>is_open</th>\n",
       "      <th>categories</th>\n",
       "    </tr>\n",
       "  </thead>\n",
       "  <tbody>\n",
       "    <tr>\n",
       "      <th>0</th>\n",
       "      <td>FYWN1wneV18bWNgQjJ2GNg</td>\n",
       "      <td>\"Dental by Design\"</td>\n",
       "      <td>NaN</td>\n",
       "      <td>\"4855 E Warner Rd, Ste B9\"</td>\n",
       "      <td>Ahwatukee</td>\n",
       "      <td>AZ</td>\n",
       "      <td>85044</td>\n",
       "      <td>33.330690</td>\n",
       "      <td>-111.978599</td>\n",
       "      <td>4.0</td>\n",
       "      <td>22</td>\n",
       "      <td>1</td>\n",
       "      <td>Dentists;General Dentistry;Health &amp; Medical;Or...</td>\n",
       "    </tr>\n",
       "    <tr>\n",
       "      <th>1</th>\n",
       "      <td>He-G7vWjzVUysIKrfNbPUQ</td>\n",
       "      <td>\"Stephen Szabo Salon\"</td>\n",
       "      <td>NaN</td>\n",
       "      <td>\"3101 Washington Rd\"</td>\n",
       "      <td>McMurray</td>\n",
       "      <td>PA</td>\n",
       "      <td>15317</td>\n",
       "      <td>40.291685</td>\n",
       "      <td>-80.104900</td>\n",
       "      <td>3.0</td>\n",
       "      <td>11</td>\n",
       "      <td>1</td>\n",
       "      <td>Hair Stylists;Hair Salons;Men's Hair Salons;Bl...</td>\n",
       "    </tr>\n",
       "    <tr>\n",
       "      <th>2</th>\n",
       "      <td>KQPW8lFf1y5BT2MxiSZ3QA</td>\n",
       "      <td>\"Western Motor Vehicle\"</td>\n",
       "      <td>NaN</td>\n",
       "      <td>\"6025 N 27th Ave, Ste 1\"</td>\n",
       "      <td>Phoenix</td>\n",
       "      <td>AZ</td>\n",
       "      <td>85017</td>\n",
       "      <td>33.524903</td>\n",
       "      <td>-112.115310</td>\n",
       "      <td>1.5</td>\n",
       "      <td>18</td>\n",
       "      <td>1</td>\n",
       "      <td>Departments of Motor Vehicles;Public Services ...</td>\n",
       "    </tr>\n",
       "    <tr>\n",
       "      <th>3</th>\n",
       "      <td>8DShNS-LuFqpEWIp0HxijA</td>\n",
       "      <td>\"Sports Authority\"</td>\n",
       "      <td>NaN</td>\n",
       "      <td>\"5000 Arizona Mills Cr, Ste 435\"</td>\n",
       "      <td>Tempe</td>\n",
       "      <td>AZ</td>\n",
       "      <td>85282</td>\n",
       "      <td>33.383147</td>\n",
       "      <td>-111.964725</td>\n",
       "      <td>3.0</td>\n",
       "      <td>9</td>\n",
       "      <td>0</td>\n",
       "      <td>Sporting Goods;Shopping</td>\n",
       "    </tr>\n",
       "    <tr>\n",
       "      <th>4</th>\n",
       "      <td>PfOCPjBrlQAnz__NXj9h_w</td>\n",
       "      <td>\"Brick House Tavern + Tap\"</td>\n",
       "      <td>NaN</td>\n",
       "      <td>\"581 Howe Ave\"</td>\n",
       "      <td>Cuyahoga Falls</td>\n",
       "      <td>OH</td>\n",
       "      <td>44221</td>\n",
       "      <td>41.119535</td>\n",
       "      <td>-81.475690</td>\n",
       "      <td>3.5</td>\n",
       "      <td>116</td>\n",
       "      <td>1</td>\n",
       "      <td>American (New);Nightlife;Bars;Sandwiches;Ameri...</td>\n",
       "    </tr>\n",
       "  </tbody>\n",
       "</table>\n",
       "</div>"
      ],
      "text/plain": [
       "              business_id                        name neighborhood  \\\n",
       "0  FYWN1wneV18bWNgQjJ2GNg          \"Dental by Design\"          NaN   \n",
       "1  He-G7vWjzVUysIKrfNbPUQ       \"Stephen Szabo Salon\"          NaN   \n",
       "2  KQPW8lFf1y5BT2MxiSZ3QA     \"Western Motor Vehicle\"          NaN   \n",
       "3  8DShNS-LuFqpEWIp0HxijA          \"Sports Authority\"          NaN   \n",
       "4  PfOCPjBrlQAnz__NXj9h_w  \"Brick House Tavern + Tap\"          NaN   \n",
       "\n",
       "                            address            city state postal_code  \\\n",
       "0        \"4855 E Warner Rd, Ste B9\"       Ahwatukee    AZ       85044   \n",
       "1              \"3101 Washington Rd\"        McMurray    PA       15317   \n",
       "2          \"6025 N 27th Ave, Ste 1\"         Phoenix    AZ       85017   \n",
       "3  \"5000 Arizona Mills Cr, Ste 435\"           Tempe    AZ       85282   \n",
       "4                    \"581 Howe Ave\"  Cuyahoga Falls    OH       44221   \n",
       "\n",
       "    latitude   longitude  stars  review_count  is_open  \\\n",
       "0  33.330690 -111.978599    4.0            22        1   \n",
       "1  40.291685  -80.104900    3.0            11        1   \n",
       "2  33.524903 -112.115310    1.5            18        1   \n",
       "3  33.383147 -111.964725    3.0             9        0   \n",
       "4  41.119535  -81.475690    3.5           116        1   \n",
       "\n",
       "                                          categories  \n",
       "0  Dentists;General Dentistry;Health & Medical;Or...  \n",
       "1  Hair Stylists;Hair Salons;Men's Hair Salons;Bl...  \n",
       "2  Departments of Motor Vehicles;Public Services ...  \n",
       "3                            Sporting Goods;Shopping  \n",
       "4  American (New);Nightlife;Bars;Sandwiches;Ameri...  "
      ]
     },
     "execution_count": 5,
     "metadata": {},
     "output_type": "execute_result"
    }
   ],
   "source": [
    "print(\"Number of business {:d}.\".format(business.shape[0]))\n",
    "business.head(5)"
   ]
  },
  {
   "cell_type": "code",
   "execution_count": 6,
   "metadata": {},
   "outputs": [
    {
     "data": {
      "text/plain": [
       "Text(0.5,0,'Star Ratings ')"
      ]
     },
     "execution_count": 6,
     "metadata": {},
     "output_type": "execute_result"
    },
    {
     "data": {
      "image/png": "[encoded data removed]",
      "text/plain": [
       "<Figure size 576x288 with 1 Axes>"
      ]
     },
     "metadata": {},
     "output_type": "display_data"
    }
   ],
   "source": [
    "# visualize the data characteristics\n",
    "import seaborn as sns \n",
    "review_stars = reviews['stars'].value_counts().sort_index()\n",
    "plt.figure(figsize=(8,4))\n",
    "ax= sns.barplot(review_stars.index, review_stars.values, alpha=0.8)\n",
    "plt.title(\"Star Rating Distribution\")\n",
    "plt.ylabel('# of reviews', fontsize=12)\n",
    "plt.xlabel('Star Ratings ', fontsize=12)"
   ]
  },
  {
   "cell_type": "markdown",
   "metadata": {},
   "source": [
    "The Yelp review star ratings are clearly not uniformly distributed. The reviews with 5 stars dominates among all reviews (more than 2 millions 5-star reviews).\n",
    "\n",
    "In the following, let us look at the distribution of business categories."
   ]
  },
  {
   "cell_type": "code",
   "execution_count": 11,
   "metadata": {},
   "outputs": [
    {
     "name": "stdout",
     "output_type": "stream",
     "text": [
      "There are  59106  categories of Businesses in Yelp.\n"
     ]
    },
    {
     "data": {
      "text/plain": [
       "Text(0.5,0,'Category')"
      ]
     },
     "execution_count": 11,
     "metadata": {},
     "output_type": "execute_result"
    },
    {
     "data": {
      "image/png": "[encoded data removed]",
      "text/plain": [
       "<Figure size 1152x288 with 1 Axes>"
      ]
     },
     "metadata": {},
     "output_type": "display_data"
    }
   ],
   "source": [
    "categories = pd.DataFrame(' '.join(business['categories']).split(';'),columns=['category'])\\\n",
    "            .category.value_counts().sort_values(ascending=False)\n",
    "print(\"There are \",len(categories),\" categories of Businesses in Yelp.\")\n",
    "\n",
    "plt.figure(figsize=(16,4))\n",
    "ax = sns.barplot(categories[0:20].index, categories[0:20].values, alpha=0.8)\n",
    "plt.title(\"Top 20 categories\",fontsize=25)\n",
    "locs, labels = plt.xticks()\n",
    "plt.setp(labels, rotation=45)\n",
    "plt.ylabel('# businesses', fontsize=12)\n",
    "plt.xlabel('Category', fontsize=12)"
   ]
  },
  {
   "cell_type": "markdown",
   "metadata": {},
   "source": [
    "The above figure shows that restaurant type is the top one business category. Clearly, it is hard to compare business from different categories. We can focus on restaurants since it is the most common business type on Yelp. In the following, we will investigate the number of reviews distritution for each restaurant."
   ]
  },
  {
   "cell_type": "code",
   "execution_count": 17,
   "metadata": {},
   "outputs": [
    {
     "name": "stdout",
     "output_type": "stream",
     "text": [
      "count    54630.000000\n",
      "mean        58.963372\n",
      "std        150.746018\n",
      "min          3.000000\n",
      "25%          7.000000\n",
      "50%         18.000000\n",
      "75%         54.000000\n",
      "max       7361.000000\n",
      "Name: review_count, dtype: float64\n"
     ]
    },
    {
     "data": {
      "text/plain": [
       "Text(0.5,0,'Review count')"
      ]
     },
     "execution_count": 17,
     "metadata": {},
     "output_type": "execute_result"
    },
    {
     "data": {
      "image/png": "[encoded data removed]",
      "text/plain": [
       "<Figure size 1152x576 with 1 Axes>"
      ]
     },
     "metadata": {},
     "output_type": "display_data"
    }
   ],
   "source": [
    "restaurant_review_cnt = business.loc[(business['categories'].str.lower().str.contains('restaurant'))]['review_count']\n",
    "print(restaurant_review_cnt.describe())\n",
    "plt.figure(figsize=(16,8))\n",
    "sns.distplot(restaurant_review_cnt)\n",
    "plt.ylabel('Distribution', fontsize=12)\n",
    "plt.xlabel('Review count', fontsize=12)"
   ]
  },
  {
   "cell_type": "markdown",
   "metadata": {},
   "source": [
    "The distribution and statistics show that 50% restaurants received $\\le$ 18 reviews. The distribution is right skewed. Restaurants with small number of reviews are more likely biased. Based on the above distribution, we zoom in restaurants with 30 - 200 reviews. "
   ]
  },
  {
   "cell_type": "code",
   "execution_count": 25,
   "metadata": {},
   "outputs": [
    {
     "data": {
      "text/plain": [
       "Text(0.5,0,'Review count')"
      ]
     },
     "execution_count": 25,
     "metadata": {},
     "output_type": "execute_result"
    },
    {
     "data": {
      "image/png": "[encoded data removed]",
      "text/plain": [
       "<Figure size 1152x576 with 1 Axes>"
      ]
     },
     "metadata": {},
     "output_type": "display_data"
    }
   ],
   "source": [
    "restauntants_with_30_to_200_reviews = business.loc[(business['review_count'].isin(range(30,201))) & (business['categories'].str.lower().str.contains('restaurant'))]\n",
    "\n",
    "plt.figure(figsize=(16,8))\n",
    "sns.distplot(restauntants_with_30_to_200_reviews['review_count'], kde=False, rug=True, bins=50)\n",
    "plt.ylabel('Number of restaurants', fontsize=12)\n",
    "plt.xlabel('Review count', fontsize=12)"
   ]
  },
  {
   "cell_type": "code",
   "execution_count": 26,
   "metadata": {},
   "outputs": [
    {
     "name": "stdout",
     "output_type": "stream",
     "text": [
      "Total number of reviews for restaunts that have 30 to 200 reviews: 1322151\n"
     ]
    }
   ],
   "source": [
    "reviews_merged_with_restauntants_with_30_to_200_reviews = pd.merge(reviews, restauntants_with_30_to_200_reviews, how = 'right', on = 'business_id')\n",
    "print('Total number of reviews for restaunts that have 30 to 200 reviews:', reviews_merged_with_restauntants_with_30_to_200_reviews.shape[0])"
   ]
  },
  {
   "cell_type": "markdown",
   "metadata": {},
   "source": [
    "Thus, we have more than 1.3 million reviews that were written for restaurants. Each of these restaurants has number of reviews between 30 to 200. In the following, we plot the number of reviews for each star ratings."
   ]
  },
  {
   "cell_type": "code",
   "execution_count": 28,
   "metadata": {},
   "outputs": [
    {
     "data": {
      "text/plain": [
       "Text(0.5,0,'Star ratings ')"
      ]
     },
     "execution_count": 28,
     "metadata": {},
     "output_type": "execute_result"
    },
    {
     "data": {
      "image/png": "[encoded data removed]",
      "text/plain": [
       "<Figure size 576x288 with 1 Axes>"
      ]
     },
     "metadata": {},
     "output_type": "display_data"
    }
   ],
   "source": [
    "x = reviews_merged_with_restauntants_with_30_to_200_reviews['stars_x'].value_counts().sort_index()\n",
    "plt.figure(figsize=(8,4))\n",
    "ax= sns.barplot(x.index, x.values, alpha=0.8)\n",
    "plt.title(\"Star rating counts for restaurants with 30-200 reviews\")\n",
    "plt.ylabel('# of reviews', fontsize=12)\n",
    "plt.xlabel('Star ratings ', fontsize=12)"
   ]
  },
  {
   "cell_type": "code",
   "execution_count": 30,
   "metadata": {},
   "outputs": [
    {
     "name": "stdout",
     "output_type": "stream",
     "text": [
      "Number of reviews with 1 star rating:  168524\n",
      "Number of reviews with 5 star rating:  459991\n"
     ]
    }
   ],
   "source": [
    "print(\"Number of reviews with 1 star rating: \", reviews_merged_with_restauntants_with_30_to_200_reviews.loc[reviews_merged_with_restauntants_with_30_to_200_reviews['stars_x'] <2].shape[0])\n",
    "print(\"Number of reviews with 5 star rating: \", reviews_merged_with_restauntants_with_30_to_200_reviews.loc[reviews_merged_with_restauntants_with_30_to_200_reviews['stars_x'] >4].shape[0])"
   ]
  },
  {
   "cell_type": "markdown",
   "metadata": {},
   "source": [
    "This distribution is very similar to ratings distribution we plotted earlier for the full data set. In another words, after we filtered the data set with business category restaurants and number of reviews for each restaurant, the star rating distribution remains the same. In the following, we randomly select 15000 from reviews with rating 1 (less than 10% of all reviews with 1 stars) and 15000 reviews with rating 5 (about 3% of total 5 star reviews). We use this random sampled data to explore the characteritics of the text and business sentiments."
   ]
  },
  {
   "cell_type": "code",
   "execution_count": 31,
   "metadata": {},
   "outputs": [
    {
     "name": "stdout",
     "output_type": "stream",
     "text": [
      "(30000, 21)\n"
     ]
    }
   ],
   "source": [
    "np.random.seed(0)\n",
    "negative_samples = reviews_merged_with_restauntants_with_30_to_200_reviews.loc[reviews_merged_with_restauntants_with_30_to_200_reviews['stars_x'] <2].sample(15000)\n",
    "positive_samples = reviews_merged_with_restauntants_with_30_to_200_reviews.loc[reviews_merged_with_restauntants_with_30_to_200_reviews['stars_x'] >4].sample(15000)\n",
    "selected_data = pd.concat([negative_samples, positive_samples])\n",
    "print(selected_data.shape)"
   ]
  }
 ],
 "metadata": {
  "kernelspec": {
   "display_name": "Python 3",
   "language": "python",
   "name": "python3"
  },
  "language_info": {
   "codemirror_mode": {
    "name": "ipython",
    "version": 3
   },
   "file_extension": ".py",
   "mimetype": "text/x-python",
   "name": "python",
   "nbconvert_exporter": "python",
   "pygments_lexer": "ipython3",
   "version": "3.5.2"
  }
 },
 "nbformat": 4,
 "nbformat_minor": 2
}
