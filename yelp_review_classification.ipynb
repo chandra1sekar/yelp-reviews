{
 "cells": [
  {
   "cell_type": "markdown",
   "metadata": {},
   "source": [
    "## Classifying and Natural Language Processing with Yelp Reviews Data\n",
    "#### W207 Section 3, Group - <span style=\"color:orange\"><strong>C</strong></span>olors\n",
    "#### Summer, 2018\n",
    "#### Team members:\n",
    "- Chandra Sekar, chandra-sekar@ischool.berkeley.edu\n",
    "- Guangyu (Gary) Pei, guangyu.pei@ischool.berkeley.edu\n",
    "- Jooyeon (Irene) Seo, jooyeon@ischool.berkeley.edu\n",
    "- Sijie (Anne) Yu, syu.anne@berkeley.edu"
   ]
  },
  {
   "cell_type": "code",
   "execution_count": 1,
   "metadata": {},
   "outputs": [
    {
     "name": "stderr",
     "output_type": "stream",
     "text": [
      "/Users/briannaseo/anaconda3/lib/python3.6/site-packages/sklearn/cross_validation.py:41: DeprecationWarning: This module was deprecated in version 0.18 in favor of the model_selection module into which all the refactored classes and functions are moved. Also note that the interface of the new CV iterators are different from that of this module. This module will be removed in 0.20.\n",
      "  \"This module will be removed in 0.20.\", DeprecationWarning)\n",
      "/Users/briannaseo/anaconda3/lib/python3.6/site-packages/sklearn/grid_search.py:42: DeprecationWarning: This module was deprecated in version 0.18 in favor of the model_selection module into which all the refactored classes and functions are moved. This module will be removed in 0.20.\n",
      "  DeprecationWarning)\n",
      "/Users/briannaseo/anaconda3/lib/python3.6/site-packages/h5py/__init__.py:36: FutureWarning: Conversion of the second argument of issubdtype from `float` to `np.floating` is deprecated. In future, it will be treated as `np.float64 == np.dtype(float).type`.\n",
      "  from ._conv import register_converters as _register_converters\n",
      "Using TensorFlow backend.\n"
     ]
    },
    {
     "name": "stdout",
     "output_type": "stream",
     "text": [
      "Python version used: 3.6.5 |Anaconda custom (64-bit)| (default, Mar 29 2018, 13:14:23) \n",
      "[GCC 4.2.1 Compatible Clang 4.0.1 (tags/RELEASE_401/final)]\n",
      "Numpy version used: 1.14.2\n",
      "sklearn version used: 0.19.1\n"
     ]
    }
   ],
   "source": [
    "# General libraries.\n",
    "%matplotlib inline\n",
    "import numpy as np\n",
    "import matplotlib.pyplot as plt\n",
    "import pandas as pd\n",
    "import re\n",
    "import sys\n",
    "import warnings\n",
    "warnings.filterwarnings(\"ignore\", category=DeprecationWarning)\n",
    "\n",
    "# SK-learn libraries for learning.\n",
    "import sklearn\n",
    "from sklearn.pipeline import Pipeline\n",
    "from sklearn.neighbors import KNeighborsClassifier\n",
    "from sklearn.linear_model import LogisticRegression\n",
    "from sklearn.naive_bayes import BernoulliNB\n",
    "from sklearn.naive_bayes import MultinomialNB\n",
    "from sklearn.grid_search import GridSearchCV\n",
    "\n",
    "# keras package for neural networks.\n",
    "from keras import models\n",
    "from keras import layers\n",
    "from keras import optimizers\n",
    "\n",
    "# SK-learn libraries for evaluation.\n",
    "from sklearn.metrics import confusion_matrix\n",
    "from sklearn import metrics\n",
    "from sklearn.metrics import classification_report\n",
    "\n",
    "# SK-learn libraries for feature extraction from text.\n",
    "from sklearn.feature_extraction.text import *\n",
    "\n",
    "# Config Jupyter session\n",
    "%config IPCompleter.greedy=True\n",
    "\n",
    "# Set the randomizer seed so results are the same each time.\n",
    "np.random.seed(0)\n",
    "\n",
    "# Global configurations\n",
    "np.set_printoptions(precision=4, suppress=True)\n",
    "\n",
    "# Config system logs\n",
    "import logging\n",
    "logging.basicConfig(level=logging.INFO,\n",
    "                   format='%(asctime)s %(levelname)s %(message)s')\n",
    "\n",
    "# print versions\n",
    "print(\"Python version used:\", sys.version)\n",
    "print(\"Numpy version used:\", np.__version__)\n",
    "print(\"sklearn version used:\", sklearn.__version__)"
   ]
  },
  {
   "cell_type": "markdown",
   "metadata": {},
   "source": [
    "#### Goals\n",
    "Our project’s primary concept is to utilize Yelp data (from kaggle) to rate new business. That is, we are going to get Yelp user review data, use review texts to predict review is **positive** or **negative**. When people talk about a new business, we can capture their words, fit into the model, then predict its rating, sort of understand its quality and potential.\n",
    "\n",
    "#### The Yelp Review Dataset\n",
    "We write a shell [script](https://github.com/annesjyu/m207_summer_2018) to select $10,000$ reviews for training, testing and dev respectively, each set consisting in 50% negative and 50% positive reviews. We keep only review text and stars columns, then binarize stars into target label: \n",
    "- if stars >= $3.0$, review is *positive*\n",
    "- otherwise, it's *negative*.\n",
    "\n",
    "The following code will load the dataset and split it into $3$ sets:"
   ]
  },
  {
   "cell_type": "code",
   "execution_count": 2,
   "metadata": {},
   "outputs": [
    {
     "name": "stdout",
     "output_type": "stream",
     "text": [
      "Full data dim:  (29701, 2)\n",
      "train data size:  12000\n",
      "test data size:  10000\n",
      "dev data size:  7700\n",
      "________________________________________________________________________________\n",
      "Training examples:\n",
      " ['Orange Blossom Beer is the best  However atmosphere and Service (Female Bartender/Server) were really bad... Go to Chevron get a growler  go home and Enjoy!!! '\n",
      " \"Tried this place one time shortly after they opened.   I wasn't really impressed with their food. The place did look neat and clean and the staff was very friendly.  Although I wasn't impressed with my one visit based on the customer service I'll probably try it again at some point. \"]\n",
      "[0 1]\n",
      "________________________________________________________________________________\n",
      "Testing examples:\n",
      " ['Not worth going to. I ordered a ramen and the chicken was very dry and over done  the soup was way too salty and tasted very artificial as well. Definitely way better ramen shops in the gta. The chicken bao was absolutely horrible because  1. It was way too spicy  and 2. Way too dry. It burnt my mouth and stomach the whole night. '\n",
      " 'Service was horrible! Some European lady with an accent came to take our order and right in the middle of my order she walked away and helped someone else! I called her back to ask her if we could finish our order. She rudely complied.. I was sitting on the far left of the bar and I could clearly see the kitchen. The server was sitting on a keg taking off her shoes and picking dirt from in between her toes.. I then saw her place carrots and celery with her dirty foot fingers into our plates! DISGUSTING! Food was alright. Will not be coming here again I DO NOT RECOMMEND THIS PLACE ']\n",
      "[0 0]\n",
      "________________________________________________________________________________\n",
      "Dev examples:\n",
      " ['Absolute ripoff and terrible customer service! I went here for a bachelor party as I was told it was an upscale gentlemen\\'s club. After the $50 cover charge we found the place went downhill from there. We had one of the entertainers lie to us in order to go into the so called VIP area with a promise of 1 full hour of performances and 10 drinks included for $450. Then we were hustled further by being charged a 15% service fee and a 20% gratuity at the VIP entry in advanced \"\"before\"\" even being seated. What a joke!!!! Once in there we ordered a round of 3 drinks and it came out to $80. We challenged this charge stating we were told the first 10 drinks would be included! A lie from our entertainer Mariah!!! After performing for about 15-20 minutes Mariah said she was done. What about the hour that was promised? She then stated it was only half an hour and it was \"\"her bad\"\". We were very upset at this point because we were basically robbed of $700 over the course of 20 minutes! I then called Nicole later that day to dispute the charges  her response was that we should not have trusted anything that their entertainers said or promised. She said that they were independent contractors and they could say whatever they want. Even though they work under Crazyhorse 3\\'s roof. I was like really? I couldn\\'t believe it!!! Then she had our VIP host Darius call me later that day. Another total waste of time!!! He offered me a 200 gift card to use at the club. Basically an admission of guilt. Why would he offer us a $200 gift card if we weren\\'t lied to? Plus that\\'s not even close to the $700 we were hustled out of. I made it abundantly clear to him that I had no desire to go back to a place that rips people off. I asked for a full refund that I felt I was entitled to. I even told them to keep the $80 for the drinks I was misrepresented about. He promised that he would talk to his boss to get back to me within 24 hours. Another Crazyhorse 3 lie. It\\'s been almost 2 weeks and what a surprise  no response from Darius. I\\'ve left him three voicemails and three text messages with not as much as one response. This place is a rip off and the customer service is a joke. Don\\'t waste your time  patience  or money. I should\\'ve read their yelp reviews before I went. Browse through and you will see that they consistently rip people off. Pretty awful business practices. '\n",
      " 'Recommend that you stay somewhere else! Older property. Most of the staff just going through the motions. Bed was too firm for us. ']\n",
      "[0 0]\n"
     ]
    }
   ],
   "source": [
    "with np.warnings.catch_warnings():\n",
    "    # There are some bad data, we just dont want to see a lot of warning messages\n",
    "    np.warnings.filterwarnings('ignore', r'Some errors were detected')\n",
    "    data = np.genfromtxt('data.csv',dtype='str', delimiter='|', skip_header=1, \n",
    "                         usecols = (0,1), invalid_raise=False, loose=True)\n",
    "\n",
    "    print (\"Full data dim: \", data.shape)\n",
    "    \n",
    "    # Shuffle the data, each dataset will have roughly the same number of examples for each label.\n",
    "    shuffle = np.random.permutation(np.arange(data.shape[0]))\n",
    "    X, Y = data[shuffle, 0], data[shuffle, 1]    \n",
    "    \n",
    "    train_data, train_labels = X[0:12000], Y[:12000].astype(np.int)\n",
    "    test_data, test_labels = X[12000:22000], Y[12000:22000].astype(np.int)\n",
    "    dev_data, dev_labels = X[22000:-1], Y[22000:-1].astype(np.int)\n",
    "\n",
    "    NUM_OF_TRAINING_DATA = len(train_data)\n",
    "    NUM_OF_TESTING_DATA = len(test_data)\n",
    "    NUM_OF_DEV_DATA = len(dev_data)\n",
    "\n",
    "    print ('train data size: ', NUM_OF_TRAINING_DATA)\n",
    "    print ('test data size: ', NUM_OF_TESTING_DATA)\n",
    "    print ('dev data size: ', NUM_OF_DEV_DATA)\n",
    "    print ('_'*80)\n",
    "    print ('Training examples:\\n', train_data[0:2])\n",
    "    print (train_labels[0:2])\n",
    "    print ('_'*80)\n",
    "    print ('Testing examples:\\n', test_data[0:2])\n",
    "    print (test_labels[0:2])\n",
    "    print ('_'*80)\n",
    "    print ('Dev examples:\\n', dev_data[0:2])\n",
    "    print (dev_labels[0:2])"
   ]
  },
  {
   "cell_type": "markdown",
   "metadata": {},
   "source": [
    "Analyze train, dev and test datasets to find out data distributions. Ideally we want to have 50% examples for either label."
   ]
  },
  {
   "cell_type": "code",
   "execution_count": 3,
   "metadata": {},
   "outputs": [
    {
     "name": "stdout",
     "output_type": "stream",
     "text": [
      "positive train data:  6050 , negative train data:  5950\n",
      "positive test data:  5000 , negative test data:  5000\n",
      "positive dev data:  3812 , negative dev data:  3888\n"
     ]
    }
   ],
   "source": [
    "print ('positive train data: ', len(np.where(train_labels==1)[0]), \n",
    "       ', negative train data: ', len(np.where(train_labels==0)[0]))\n",
    "print ('positive test data: ', len(np.where(test_labels==1)[0]), \n",
    "       ', negative test data: ', len(np.where(test_labels==0)[0]))\n",
    "print ('positive dev data: ', len(np.where(dev_labels==1)[0]), \n",
    "       ', negative dev data: ', len(np.where(dev_labels==0)[0]))"
   ]
  },
  {
   "cell_type": "code",
   "execution_count": null,
   "metadata": {},
   "outputs": [],
   "source": [
    "def load_data(fnm = \"data_restaurants_reviews_30_to_200_stars_1_5\", seed = 1234,\n",
    "              train_frac= 0.8, dev_size = 1000):\n",
    "    data = pd.read_pickle(fnm)\n",
    "    np.random.seed(seed)\n",
    "    data = data.sample(frac=1).reset_index(drop=True)\n",
    "    print (\"Total data size:\", data.shape[0])\n",
    "    traing_size = int(np.floor(data.shape[0]*train_frac))\n",
    "    test_size = int(np.floor(data.shape[0]*(1.0-train_frac))) - dev_size\n",
    "    train_data, train_labels = data.X[0:traing_size], data.Y[0:traing_size]\n",
    "    test_data, test_labels = data.X[traing_size:(traing_size+test_size)], data.Y[traing_size:(traing_size+test_size)]\n",
    "    dev_data, dev_labels = data.X[(traing_size+test_size):-1], data.Y[(traing_size+test_size):-1]\n",
    "    return train_data, train_labels, test_data, test_labels, dev_data, dev_labels\n",
    "    \n",
    "\n",
    "train_data, train_labels, test_data, test_labels, dev_data, dev_labels = load_data()\n",
    "\n",
    "print ('train data size: ', train_data.shape)\n",
    "print ('test data size: ', test_data.shape)\n",
    "print ('dev data size: ', dev_data.shape)"
   ]
  },
  {
   "cell_type": "markdown",
   "metadata": {},
   "source": [
    "#### Natural Language Processing on Review Texts\n",
    "\n",
    "We will create a doc-term matrix from review texts, so that classifiers can use it as an feature. There are a couple of steps of doing it. \n",
    "- First of all we will conduct Natural Language Processing with customized stemmer, stop words etc. \n",
    "- Secondly we will use Logistic Regression + L1 Regulization to reduce non-important terms."
   ]
  },
  {
   "cell_type": "code",
   "execution_count": 4,
   "metadata": {},
   "outputs": [
    {
     "name": "stdout",
     "output_type": "stream",
     "text": [
      "done in  7.796287536621094e-05  s\n"
     ]
    }
   ],
   "source": [
    "import time\n",
    "from nltk.stem.porter import PorterStemmer\n",
    "from stop_words import get_stop_words\n",
    "\n",
    "categories = ['Positive reviews', 'Negative reviews']\n",
    "\n",
    "def NLP_text(verbose):\n",
    "    \"\"\"The function will take a vector of texts and create a Doc-Term Matrix.\n",
    "    Input:\n",
    "        verbose: if true, will print debug info.\n",
    "    Output:\n",
    "        a customized vectorizer object.\n",
    "    \"\"\"    \n",
    "    def better_tokenizer(s):\n",
    "        tokens = TfidfVectorizer().build_tokenizer()(s)\n",
    "        # create English stop words list\n",
    "        stop_words = get_stop_words('en')\n",
    "        \n",
    "        # Create p_stemmer of class PorterStemmer\n",
    "        p_stemmer = PorterStemmer()\n",
    "        \n",
    "        # We compute the average length of original dictionary, which is 6.7\n",
    "        # then ignore extremly short and long words, like more than 6.7/2 and 6.7*2.\n",
    "        WORD_LEN = 6.7\n",
    "        \n",
    "        return [p_stemmer.stem(t) for t in tokens if len(t) >= WORD_LEN/2 \n",
    "                and len(t) <= WORD_LEN*2 and t not in stop_words]\n",
    "           \n",
    "    shuffle = np.random.permutation(train_data.shape[0])\n",
    "    X, Y = train_data[shuffle], train_labels[shuffle]\n",
    "    TUNE_DATA_SIZE = int(len(train_data)/6)\n",
    "    data = X[0:TUNE_DATA_SIZE]\n",
    "    labels = Y[0:TUNE_DATA_SIZE]\n",
    "    \n",
    "    vect1 = TfidfVectorizer(strip_accents='ascii', ngram_range=(1,1), min_df=2, \n",
    "                            stop_words='english', use_idf=False, sublinear_tf=True, \n",
    "                            max_features=10000, tokenizer=better_tokenizer)\n",
    "    \n",
    "    data_dtm = vect1.fit_transform(data)\n",
    "    features = vect1.get_feature_names()\n",
    "    print ('num of original terms: ', len(features))\n",
    "\n",
    "    # Reduce terms using Logistic Regression + L1 regulirization\n",
    "    # If the the term has a non-zero weight we will keep it, otherwise, exclude it from DTM.\n",
    "    Logistic_Regression_optimal_C = 10\n",
    "    lg = LogisticRegression(penalty=\"l1\", tol=0.01, C=Logistic_Regression_optimal_C)\n",
    "    lg.fit(data_dtm, labels)\n",
    "    print ('dim of coef matrix: ', lg.coef_.shape)\n",
    "    #print ('accuracy: ', metrics.accuracy_score(labels, lg.predict(test_data, test_labels)))\n",
    "    \n",
    "    nonzero_features_indices = np.array(np.nonzero(lg.coef_[0])[0])\n",
    "    print ('num of nonzero terms: ', nonzero_features_indices.shape)\n",
    "    \n",
    "    reduced_terms = [features[int(w)] for w in nonzero_features_indices]\n",
    "    if verbose:\n",
    "        print ('non-zero terms:\\n%s' %reduced_terms)\n",
    "    \n",
    "    vect2 = TfidfVectorizer(strip_accents='ascii', ngram_range=(1,1), min_df=2, \n",
    "                            use_idf=False, sublinear_tf=True, \n",
    "                            tokenizer=better_tokenizer, \n",
    "                            vocabulary=reduced_terms)\n",
    "    \n",
    "    return vect2\n",
    "\n",
    "# Get the customized and improved vectorizer\n",
    "verbose = False\n",
    "start = time.time()\n",
    "#better_vect = NLP_text(verbose)\n",
    "print ('done in ', time.time() - start, ' s')"
   ]
  },
  {
   "cell_type": "markdown",
   "metadata": {},
   "source": [
    "##### Create a baseline using default CountVectorizer and NB"
   ]
  },
  {
   "cell_type": "code",
   "execution_count": 5,
   "metadata": {},
   "outputs": [
    {
     "name": "stdout",
     "output_type": "stream",
     "text": [
      "(12000, 5402)\n",
      "             precision    recall  f1-score   support\n",
      "\n",
      "          0       0.76      0.87      0.81      3422\n",
      "          1       0.88      0.78      0.83      4278\n",
      "\n",
      "avg / total       0.83      0.82      0.82      7700\n",
      "\n",
      "top 100 terms:\n",
      " ['took', 'vegas', 'selection', 'things', 'table', 'stars', 'worth', 'sweet', 'bad', 'different', 'work', 'overall', 'perfect', 'salad', 'quite', 'drinks', 'dinner', 'home', 'hot', 'favorite', 'need', 'long', 'places', 'excellent', 'meal', 'thing', 'big', 'clean', 'feel', 'price', 'location', 'happy', 'wasn', 'awesome', 'cheese', 'lunch', 'eat', 'super', 'tried', 'looking', 'prices', 'sauce', 'times', 'new', 'lot', 'night', 'say', 'want', 'bit', 'area', 'small', 'wait', 'sure', 'bar', 'day', 'll', 'experience', 'recommend', 'fresh', 'chicken', 'way', 'amazing', 'went', 'going', 'know', 'better', 'right', 'think', 'order', 'people', 'didn', 'ordered', 'restaurant', 'did', 'make', 'menu', 'came', 'come', 'staff', 'pretty', 'got', 'delicious', 'try', 'little', 'definitely', 'don', 'best', 'friendly', 'love', 'nice', 've', 'really', 'time', 'just', 'like', 'service', 'food', 'great', 'place', 'good']\n",
      "________________________________________________________________________________\n",
      "lest important 100 terms:\n",
      " ['units', 'blamed', 'blatantly', 'questioned', 'belongings', 'shrugged', 'canceled', 'nur', 'incompetent', 'incorrectly', 'offensive', 'rudely', 'compensation', 'liar', 'arrogant', 'arguing', 'faulty', 'denied', 'dishonest', 'appalled', 'crooks', 'insult', 'dispute', 'threatened', 'overcharged', 'threatening', 'noch', 'acknowledge', 'acknowledgement', 'yell', 'stinks', 'bbb', 'refusing', 'heater', 'redeeming', 'refunded', 'antibiotics', 'odor', 'owed', 'stolen', 'auf', 'touched', 'atrocious', 'sehr', 'flagged', 'mistakes', 'billing', 'dept', 'dem', 'interrupted', 'dass', 'unwilling', 'cuticles', 'smh', 'disconnected', 'disgusted', 'responsibility', 'vacuum', 'valuable', 'inspector', 'lease', 'confronted', 'lied', 'rudeness', 'proceed', 'lousy', 'von', 'elderly', 'sarcastic', 'subpar', 'cable', 'wasting', 'expired', 'bleeding', 'hier', '700', 'rudest', 'reads', 'backing', 'thousands', 'nicht', 'legal', 'inconvenient', 'tostada', 'prove', 'nerve', 'unacceptable', 'operating', 'inspect', 'vomit', 'assigned', 'opinions', 'bait', 'pages', 'failure', 'posting', 'repeated', 'cigarettes', 'als', 'claimed']\n",
      "________________________________________________________________________________\n"
     ]
    }
   ],
   "source": [
    "v = CountVectorizer(strip_accents='ascii', stop_words='english', min_df=0.001)\n",
    "train_dtm = v.fit_transform(train_data)\n",
    "print (train_dtm.shape)\n",
    "\n",
    "bnb = BernoulliNB(alpha=0.01)\n",
    "bnb.fit(train_dtm, train_labels)\n",
    "predicted = bnb.predict(v.transform(dev_data))\n",
    "\n",
    "print (classification_report(predicted, dev_labels))\n",
    "\n",
    "terms = v.get_feature_names()\n",
    "top100 = np.argsort(bnb.coef_[0])[-100:]\n",
    "print ('top 100 terms:\\n',[terms[int(w)] for w in top100])\n",
    "print ('_'*80)\n",
    "bottom100 = np.argsort(bnb.coef_[0])[:100]\n",
    "print ('lest important 100 terms:\\n',[terms[int(w)] for w in bottom100])\n",
    "print ('_'*80)"
   ]
  },
  {
   "cell_type": "markdown",
   "metadata": {},
   "source": [
    "##### Logistic Regression Model\n",
    "\n",
    "In this section, we will train Logistic Regression model."
   ]
  },
  {
   "cell_type": "code",
   "execution_count": null,
   "metadata": {},
   "outputs": [],
   "source": [
    "def yelp_review_logistic_regression_model(train_data = train_data,\n",
    "                                          train_labels = train_labels,\n",
    "                                          test_data = dev_data,\n",
    "                                          test_labels = dev_labels,\n",
    "                                          seed = 1234):\n",
    "    # Keep this random seed so that this function is reproducible.\n",
    "    np.random.seed(seed)\n",
    "    count_vectorizer = CountVectorizer(strip_accents='ascii', stop_words='english', min_df=0.001)\n",
    "    dtm_train = count_vectorizer.fit_transform(train_data)\n",
    "    # compare the number of nonzero weights from l1 and l2\n",
    "    logistic_l1 = LogisticRegression(penalty=\"l1\")\n",
    "    logistic_l1.fit(dtm_train, train_labels)\n",
    "    # Method 1 using np.nonzero\n",
    "    print(\"Number of nonzero weights with l1 penalty is {:d}.\".format(len(set((np.nonzero(logistic_l1.coef_))[1]))))\n",
    "    logistic_l2 = LogisticRegression(penalty=\"l2\")\n",
    "    logistic_l2.fit(dtm_train, train_labels)\n",
    "    print(\"Number of nonzero weights with l2 penalty is {:d}.\".format(len(set((np.nonzero(logistic_l2.coef_))[1]))))\n",
    "    \n",
    "    # vary C parameters and plot the graph\n",
    "    vocabsizes = []\n",
    "    l1_cs = []\n",
    "    f1_scores = []\n",
    "    for i in np.logspace(-3, 2, num=20):\n",
    "        logistic_l1 = LogisticRegression(penalty=\"l1\", tol=0.01, C=i)\n",
    "        logistic_l1.fit(dtm_train, train_labels)\n",
    "        # features that have at least one non-zero weights under l1 penalty\n",
    "        l1_nonzero_vocab = np.array(count_vectorizer.get_feature_names())[list(set((np.nonzero(logistic_l1.coef_))[1]))]\n",
    "        vocabsizes.append(len(l1_nonzero_vocab))\n",
    "        l1_cs.append(i)\n",
    "        # using vocabulary based on non-zero weights from l1 penalty logistic regression results\n",
    "        vectorizer_with_reduced_vocab = CountVectorizer(vocabulary=l1_nonzero_vocab)\n",
    "        dtm_with_reduced_vocab = vectorizer_with_reduced_vocab.fit_transform(train_data)\n",
    "        dtm_test_with_reduced_vocab = vectorizer_with_reduced_vocab.transform(test_data)\n",
    "        # fit logistic regression with penalty l2\n",
    "        logistic_l2_retrain = LogisticRegression(penalty=\"l2\")\n",
    "        logistic_l2_retrain.fit(dtm_with_reduced_vocab, train_labels)\n",
    "        f1_scores.append(metrics.f1_score(test_labels,\n",
    "                                          logistic_l2_retrain.predict(dtm_test_with_reduced_vocab),\n",
    "                                          average = 'macro'))\n",
    "    \n",
    "    # plot the results\n",
    "    plt.figure(figsize=(10,10))\n",
    "    plt.plot(vocabsizes, f1_scores, 'bo', markersize=15)\n",
    "    plt.title('F1 scores of the re-trained model with l2 vs. the vocabulary size based on l1')\n",
    "    plt.xlabel('Vocabulary size')\n",
    "    plt.ylabel('F1 score')\n",
    "    plt.rcParams[\"font.size\"] = 12\n",
    "    \n",
    "    print(\"Best F1 score with L2 regularization is {:.2f}.\\nThe best F1 score is achieved by using the vocabulary size {:d} determined by L1 regularization with C parameter {:.5f}\"\\\n",
    "          .format(np.max(f1_scores),vocabsizes[np.argmax(f1_scores)],l1_cs[np.argmax(f1_scores)]))\n",
    "\n",
    "yelp_review_logistic_regression_model()    "
   ]
  },
  {
   "cell_type": "markdown",
   "metadata": {},
   "source": [
    "##### Neural Networks\n",
    "\n",
    "In this section, we will train Neural Networks."
   ]
  },
  {
   "cell_type": "code",
   "execution_count": 5,
   "metadata": {},
   "outputs": [
    {
     "name": "stdout",
     "output_type": "stream",
     "text": [
      "Train on 12000 samples, validate on 7700 samples\n",
      "Epoch 1/20\n",
      "12000/12000 [==============================] - 2s 184us/step - loss: 0.5510 - acc: 0.7937 - val_loss: 0.4456 - val_acc: 0.8622\n",
      "Epoch 2/20\n",
      "12000/12000 [==============================] - 1s 89us/step - loss: 0.3727 - acc: 0.8904 - val_loss: 0.3627 - val_acc: 0.8787\n",
      "Epoch 3/20\n",
      "12000/12000 [==============================] - 1s 86us/step - loss: 0.2852 - acc: 0.9125 - val_loss: 0.3257 - val_acc: 0.8840\n",
      "Epoch 4/20\n",
      "12000/12000 [==============================] - 1s 94us/step - loss: 0.2305 - acc: 0.9250 - val_loss: 0.3121 - val_acc: 0.8858\n",
      "Epoch 5/20\n",
      "12000/12000 [==============================] - 1s 98us/step - loss: 0.1941 - acc: 0.9366 - val_loss: 0.3155 - val_acc: 0.8839\n",
      "Epoch 6/20\n",
      "12000/12000 [==============================] - 1s 94us/step - loss: 0.1659 - acc: 0.9453 - val_loss: 0.3290 - val_acc: 0.8783\n",
      "Epoch 7/20\n",
      "12000/12000 [==============================] - 1s 87us/step - loss: 0.1448 - acc: 0.9520 - val_loss: 0.3489 - val_acc: 0.8747\n",
      "Epoch 8/20\n",
      "12000/12000 [==============================] - 1s 83us/step - loss: 0.1267 - acc: 0.9590 - val_loss: 0.3668 - val_acc: 0.8725\n",
      "Epoch 9/20\n",
      "12000/12000 [==============================] - 1s 84us/step - loss: 0.1121 - acc: 0.9642 - val_loss: 0.3811 - val_acc: 0.8745\n",
      "Epoch 10/20\n",
      "12000/12000 [==============================] - 1s 84us/step - loss: 0.0978 - acc: 0.9686 - val_loss: 0.4122 - val_acc: 0.8697\n",
      "Epoch 11/20\n",
      "12000/12000 [==============================] - 1s 83us/step - loss: 0.0862 - acc: 0.9736 - val_loss: 0.4382 - val_acc: 0.8675\n",
      "Epoch 12/20\n",
      "12000/12000 [==============================] - 1s 83us/step - loss: 0.0748 - acc: 0.9772 - val_loss: 0.4737 - val_acc: 0.8656\n",
      "Epoch 13/20\n",
      "12000/12000 [==============================] - 1s 84us/step - loss: 0.0663 - acc: 0.9802 - val_loss: 0.5074 - val_acc: 0.8627\n",
      "Epoch 14/20\n",
      "12000/12000 [==============================] - 1s 107us/step - loss: 0.0574 - acc: 0.9830 - val_loss: 0.5353 - val_acc: 0.8635\n",
      "Epoch 15/20\n",
      "12000/12000 [==============================] - 1s 102us/step - loss: 0.0503 - acc: 0.9859 - val_loss: 0.5676 - val_acc: 0.8617\n",
      "Epoch 16/20\n",
      "12000/12000 [==============================] - 1s 97us/step - loss: 0.0435 - acc: 0.9877 - val_loss: 0.6125 - val_acc: 0.8591\n",
      "Epoch 17/20\n",
      "12000/12000 [==============================] - 1s 91us/step - loss: 0.0373 - acc: 0.9903 - val_loss: 0.6433 - val_acc: 0.8584\n",
      "Epoch 18/20\n",
      "12000/12000 [==============================] - 1s 86us/step - loss: 0.0326 - acc: 0.9916 - val_loss: 0.7069 - val_acc: 0.8530\n",
      "Epoch 19/20\n",
      "12000/12000 [==============================] - 1s 85us/step - loss: 0.0276 - acc: 0.9930 - val_loss: 0.7187 - val_acc: 0.8560\n",
      "Epoch 20/20\n",
      "12000/12000 [==============================] - 1s 87us/step - loss: 0.0243 - acc: 0.9934 - val_loss: 0.7687 - val_acc: 0.8518\n"
     ]
    },
    {
     "data": {
      "image/png": "[encoded data removed]",
      "text/plain": [
       "<Figure size 1080x504 with 2 Axes>"
      ]
     },
     "metadata": {},
     "output_type": "display_data"
    }
   ],
   "source": [
    "def yelp_review_neural_networks():\n",
    "\n",
    "    count_vectorizer = CountVectorizer(strip_accents='ascii', stop_words='english', min_df=0.001)\n",
    "    dtm_train = count_vectorizer.fit_transform(train_data)\n",
    "    dtm_dev = count_vectorizer.transform(dev_data)\n",
    "\n",
    "    # Building our model\n",
    "    model = models.Sequential()\n",
    "    model.add(layers.Dense(16, activation='relu', input_shape=(dtm_train.shape[1],)))\n",
    "    model.add(layers.Dense(16, activation='relu'))\n",
    "    model.add(layers.Dense(1, activation='sigmoid'))\n",
    "    # Use binary_crossentropy loss function because our model outputs probabilities\n",
    "    model.compile(optimizer='rmsprop', loss='binary_crossentropy', metrics=['accuracy'])\n",
    "\n",
    "    # Validate our model with dev dataset\n",
    "    history = model.fit(dtm_train, train_labels, epochs=20, batch_size=512, validation_data=(dtm_dev, dev_labels))\n",
    "    acc = history.history['acc']\n",
    "    val_acc = history.history['val_acc']\n",
    "    loss = history.history['loss']\n",
    "    val_loss = history.history['val_loss']\n",
    "    epochs = range(1, len(acc) + 1)\n",
    "    \n",
    "    # Plot training and validation loss\n",
    "    fig = plt.figure(figsize=(15,7))\n",
    "    ax = fig.add_subplot(1,2,1)\n",
    "    ax.plot(epochs, loss, 'bo', label='Training loss')\n",
    "    ax.plot(epochs, val_loss, 'b', label='Validation loss')\n",
    "    ax.set_title('Training and validation loss')\n",
    "    ax.set_xlabel('Epochs')\n",
    "    ax.set_ylabel('Loss')\n",
    "    \n",
    "    # Plot training and validation accuracy\n",
    "    ax2 = fig.add_subplot(1,2,2)\n",
    "    ax2.plot(epochs, acc, 'bo', label='Training acc')\n",
    "    ax2.plot(epochs, val_acc, 'b', label='Validation acc')\n",
    "    ax2.set_title('Training and validation accuracy')\n",
    "    ax2.set_xlabel('Epochs')\n",
    "    ax2.set_ylabel('Loss')\n",
    "    \n",
    "yelp_review_neural_networks()"
   ]
  },
  {
   "cell_type": "markdown",
   "metadata": {},
   "source": [
    "We see a clear minimum in validation loss function after 4th epoch, and maximum in validation accuracy at 4th epoch. We'll fit the model with 4 epochs."
   ]
  },
  {
   "cell_type": "code",
   "execution_count": null,
   "metadata": {},
   "outputs": [],
   "source": [
    "def yelp_review_neural_networks():\n",
    "\n",
    "    count_vectorizer = CountVectorizer(strip_accents='ascii', stop_words='english', min_df=0.001)\n",
    "    dtm_train = count_vectorizer.fit_transform(train_data)\n",
    "    dtm_dev = count_vectorizer.transform(dev_data)\n",
    "    dtm_test = count_vectorizer.transform(test_data)\n",
    "\n",
    "    # Building our model\n",
    "    model = models.Sequential()\n",
    "    model.add(layers.Dense(16, activation='relu', input_shape=(dtm_train.shape[1],)))\n",
    "    model.add(layers.Dense(16, activation='relu'))\n",
    "    model.add(layers.Dense(1, activation='sigmoid'))\n",
    "\n",
    "    # Use binary_crossentropy loss function because our model outputs probabilities\n",
    "    model.compile(optimizer='rmsprop',\n",
    "                  loss='binary_crossentropy',\n",
    "                  metrics=['accuracy'])\n",
    "\n",
    "    model.fit(dtm_train, train_labels, epochs=4, batch_size=512)\n",
    "    results = model.evaluate(dtm_dev, dev_labels)\n",
    "    print(\"Accuracy of Neural Network classifier is\", \"{:.2f}\".format(results[1]))\n",
    "\n",
    "yelp_review_neural_networks()"
   ]
  },
  {
   "cell_type": "markdown",
   "metadata": {},
   "source": [
    "### Appendix: Exploratory Data Analysis\n",
    "\n",
    "In this section, we present the Exploratory Data Analysis (EDA) for the Yelp review data set. The goals of EDA are: (1) understand the dataset characteristics; (2) identify the relationship between Yelp ratings and business quality such that meanful and practical supervised machine learning data set is constructed.\n",
    "\n",
    "#### Load the raw data set into Pandas data frame"
   ]
  },
  {
   "cell_type": "code",
   "execution_count": null,
   "metadata": {},
   "outputs": [],
   "source": [
    "start_time=time.time()\n",
    "business=pd.read_csv(\"yelp_dataset/yelp_business.csv\")\n",
    "business_attributes=pd.read_csv(\"yelp_dataset/yelp_business_attributes.csv\")\n",
    "business_hours=pd.read_csv(\"yelp_dataset/yelp_business_hours.csv\")\n",
    "check_in=pd.read_csv(\"yelp_dataset/yelp_checkin.csv\")\n",
    "reviews=pd.read_csv(\"yelp_dataset/yelp_review.csv\", nrows=17746270)\n",
    "tip=pd.read_csv(\"yelp_dataset/yelp_tip.csv\")\n",
    "user=pd.read_csv(\"yelp_dataset/yelp_user.csv\")\n",
    "end_time=time.time()\n",
    "print(\"Reading all cvs files took \",end_time-start_time,\"s\")"
   ]
  },
  {
   "cell_type": "code",
   "execution_count": null,
   "metadata": {},
   "outputs": [],
   "source": [
    "print(\"Number of reviews {:d}\".format(reviews.shape[0]))\n",
    "reviews.head(5)"
   ]
  },
  {
   "cell_type": "code",
   "execution_count": null,
   "metadata": {},
   "outputs": [],
   "source": [
    "print(\"Number of business {:d}.\".format(business.shape[0]))\n",
    "business.head(5)"
   ]
  },
  {
   "cell_type": "markdown",
   "metadata": {},
   "source": [
    "#### Basic data characteristics"
   ]
  },
  {
   "cell_type": "code",
   "execution_count": null,
   "metadata": {},
   "outputs": [],
   "source": [
    "# visualize the data characteristics\n",
    "import seaborn as sns \n",
    "review_stars = reviews['stars'].value_counts().sort_index()\n",
    "plt.figure(figsize=(8,4))\n",
    "ax= sns.barplot(review_stars.index, review_stars.values, alpha=0.8)\n",
    "plt.title(\"Star Rating Distribution\")\n",
    "plt.ylabel('# of reviews', fontsize=12)\n",
    "plt.xlabel('Star Ratings ', fontsize=12)"
   ]
  },
  {
   "cell_type": "markdown",
   "metadata": {},
   "source": [
    "The Yelp review star ratings are clearly not uniformly distributed. The reviews with 5 stars dominates among all reviews (more than 2 millions 5-star reviews).\n",
    "\n",
    "In the following, let us look at the distribution of business categories."
   ]
  },
  {
   "cell_type": "code",
   "execution_count": null,
   "metadata": {},
   "outputs": [],
   "source": [
    "categories = pd.DataFrame(' '.join(business['categories']).split(';'),columns=['category'])\\\n",
    "            .category.value_counts().sort_values(ascending=False)\n",
    "print(\"There are \",len(categories),\" categories of Businesses in Yelp.\")\n",
    "\n",
    "plt.figure(figsize=(16,4))\n",
    "ax = sns.barplot(categories[0:20].index, categories[0:20].values, alpha=0.8)\n",
    "plt.title(\"Top 20 categories\",fontsize=25)\n",
    "locs, labels = plt.xticks()\n",
    "plt.setp(labels, rotation=45)\n",
    "plt.ylabel('# businesses', fontsize=12)\n",
    "plt.xlabel('Category', fontsize=12)"
   ]
  },
  {
   "cell_type": "markdown",
   "metadata": {},
   "source": [
    "The above figure shows that restaurant type is the top one business category. Clearly, it is hard to compare business from different categories. We can focus on restaurants since it is the most common business type on Yelp. In the following, we will investigate the number of reviews distritution for each restaurant."
   ]
  },
  {
   "cell_type": "code",
   "execution_count": null,
   "metadata": {},
   "outputs": [],
   "source": [
    "restaurant_review_cnt = business.loc[(business['categories'].str.lower().str.contains('restaurant'))]['review_count']\n",
    "print(restaurant_review_cnt.describe())\n",
    "plt.figure(figsize=(16,8))\n",
    "sns.distplot(restaurant_review_cnt)\n",
    "plt.ylabel('Distribution', fontsize=12)\n",
    "plt.xlabel('Review count', fontsize=12)"
   ]
  },
  {
   "cell_type": "markdown",
   "metadata": {},
   "source": [
    "The distribution and statistics show that 50% restaurants received $\\le$ 18 reviews. The distribution is right skewed. Restaurants with small number of reviews are more likely biased. Based on the above distribution, we zoom in restaurants with 30 - 200 reviews. "
   ]
  },
  {
   "cell_type": "code",
   "execution_count": null,
   "metadata": {},
   "outputs": [],
   "source": [
    "restauntants_with_30_to_200_reviews = business.loc[(business['review_count'].isin(range(30,201))) & (business['categories'].str.lower().str.contains('restaurant'))]\n",
    "\n",
    "plt.figure(figsize=(16,8))\n",
    "sns.distplot(restauntants_with_30_to_200_reviews['review_count'], kde=False, rug=True, bins=50)\n",
    "plt.ylabel('Number of restaurants', fontsize=12)\n",
    "plt.xlabel('Review count', fontsize=12)"
   ]
  },
  {
   "cell_type": "code",
   "execution_count": null,
   "metadata": {},
   "outputs": [],
   "source": [
    "reviews_merged_with_restauntants_with_30_to_200_reviews = pd.merge(reviews, restauntants_with_30_to_200_reviews, how = 'right', on = 'business_id')\n",
    "print('Total number of reviews for restaunts that have 30 to 200 reviews:', reviews_merged_with_restauntants_with_30_to_200_reviews.shape[0])"
   ]
  },
  {
   "cell_type": "markdown",
   "metadata": {},
   "source": [
    "Thus, we have more than 1.3 million reviews that were written for restaurants. Each of these restaurants has number of reviews between 30 to 200. In the following, we plot the number of reviews for each star ratings."
   ]
  },
  {
   "cell_type": "code",
   "execution_count": null,
   "metadata": {},
   "outputs": [],
   "source": [
    "x = reviews_merged_with_restauntants_with_30_to_200_reviews['stars_x'].value_counts().sort_index()\n",
    "plt.figure(figsize=(8,4))\n",
    "ax= sns.barplot(x.index, x.values, alpha=0.8)\n",
    "plt.title(\"Star rating counts for restaurants with 30-200 reviews\")\n",
    "plt.ylabel('# of reviews', fontsize=12)\n",
    "plt.xlabel('Star ratings ', fontsize=12)"
   ]
  },
  {
   "cell_type": "code",
   "execution_count": null,
   "metadata": {},
   "outputs": [],
   "source": [
    "print(\"Number of reviews with 1 star rating: \", reviews_merged_with_restauntants_with_30_to_200_reviews.loc[reviews_merged_with_restauntants_with_30_to_200_reviews['stars_x'] <2].shape[0])\n",
    "print(\"Number of reviews with 5 star rating: \", reviews_merged_with_restauntants_with_30_to_200_reviews.loc[reviews_merged_with_restauntants_with_30_to_200_reviews['stars_x'] >4].shape[0])"
   ]
  },
  {
   "cell_type": "markdown",
   "metadata": {},
   "source": [
    "This distribution is very similar to ratings distribution we plotted earlier for the full data set. In another words, after we filtered the data set with business category restaurants and number of reviews for each restaurant, the star rating distribution remains the same. In the following, we randomly select 15000 from reviews with rating 1 (less than 10% of all reviews with 1 stars) and 15000 reviews with rating 5 (about 3% of total 5 star reviews). We use this random sampled data to explore the characteritics of the text and business sentiments."
   ]
  },
  {
   "cell_type": "code",
   "execution_count": null,
   "metadata": {},
   "outputs": [],
   "source": [
    "np.random.seed(0)\n",
    "negative_samples = reviews_merged_with_restauntants_with_30_to_200_reviews.loc[reviews_merged_with_restauntants_with_30_to_200_reviews['stars_x'] <2].sample(15000)\n",
    "positive_samples = reviews_merged_with_restauntants_with_30_to_200_reviews.loc[reviews_merged_with_restauntants_with_30_to_200_reviews['stars_x'] >4].sample(15000)\n",
    "selected_data = pd.concat([negative_samples, positive_samples])\n",
    "print(selected_data.shape)"
   ]
  },
  {
   "cell_type": "markdown",
   "metadata": {},
   "source": [
    "#### Word cloud"
   ]
  },
  {
   "cell_type": "code",
   "execution_count": null,
   "metadata": {},
   "outputs": [],
   "source": [
    "import matplotlib.pyplot as plt\n",
    "from wordcloud import WordCloud, STOPWORDS\n",
    "\n",
    "\n",
    "stopwords = set(STOPWORDS)\n",
    "stopwords.add(\"place\")\n",
    "stopwords.add(\"food\")\n",
    "stopwords.add(\"restaurant\")\n",
    "stopwords.add(\"order\")\n",
    "stopwords.add(\"pizza\")\n",
    "\n",
    "def generate_wordcloud(text):\n",
    "    wordcloud = WordCloud(background_color=\"white\", max_words=2000,\n",
    "                          stopwords = stopwords # set or space-separated string\n",
    "                          ).generate(text)\n",
    "    plt.figure(figsize=(20,20))\n",
    "    plt.imshow(wordcloud)\n",
    "    plt.axis(\"off\")\n",
    "    plt.show()\n",
    "\n",
    "positive  = \" \".join(train_data[train_labels == 1])\n",
    "generate_wordcloud(positive)\n",
    "\n",
    "negative  = \" \".join(train_data[train_labels == 0])\n",
    "generate_wordcloud(negative)"
   ]
  }
 ],
 "metadata": {
  "kernelspec": {
   "display_name": "Python 3",
   "language": "python",
   "name": "python3"
  },
  "language_info": {
   "codemirror_mode": {
    "name": "ipython",
    "version": 3
   },
   "file_extension": ".py",
   "mimetype": "text/x-python",
   "name": "python",
   "nbconvert_exporter": "python",
   "pygments_lexer": "ipython3",
   "version": "3.6.5"
  }
 },
 "nbformat": 4,
 "nbformat_minor": 2
}
