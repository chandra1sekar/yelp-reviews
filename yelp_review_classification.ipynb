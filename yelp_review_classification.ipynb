{
 "cells": [
  {
   "cell_type": "markdown",
   "metadata": {},
   "source": [
    "## Classifying and Natural Language Processing with Yelp Reviews Data\n",
    "#### W207 Section 3, Group - <span style=\"color:orange\"><strong>C</strong></span>olors\n",
    "#### Summer, 2018\n",
    "#### Team members:\n",
    "- Chandra Sekar, chandra-sekar@ischool.berkeley.edu\n",
    "- Guangyu (Gary) Pei, guangyu.pei@ischool.berkeley.edu\n",
    "- Jooyeon (Irene) Seo, jooyeon@ischool.berkeley.edu\n",
    "- Sijie (Anne) Yu, syu.anne@berkeley.edu"
   ]
  },
  {
   "cell_type": "code",
   "execution_count": 2,
   "metadata": {},
   "outputs": [
    {
     "name": "stdout",
     "output_type": "stream",
     "text": [
      "Python version used: 3.5.1 (v3.5.1:37a07cee5969, Dec  5 2015, 21:12:44) \n",
      "[GCC 4.2.1 (Apple Inc. build 5666) (dot 3)]\n",
      "Numpy version used: 1.14.3\n",
      "sklearn version used: 0.19.1\n"
     ]
    }
   ],
   "source": [
    "# General libraries.\n",
    "%matplotlib inline\n",
    "import numpy as np\n",
    "import matplotlib.pyplot as plt\n",
    "import re\n",
    "import sys\n",
    "import warnings\n",
    "warnings.filterwarnings(\"ignore\", category=DeprecationWarning)\n",
    "\n",
    "# SK-learn libraries for learning.\n",
    "import sklearn\n",
    "from sklearn.pipeline import Pipeline\n",
    "from sklearn.neighbors import KNeighborsClassifier\n",
    "from sklearn.linear_model import LogisticRegression\n",
    "from sklearn.naive_bayes import BernoulliNB\n",
    "from sklearn.naive_bayes import MultinomialNB\n",
    "from sklearn.grid_search import GridSearchCV\n",
    "\n",
    "# SK-learn libraries for evaluation.\n",
    "from sklearn.metrics import confusion_matrix\n",
    "from sklearn import metrics\n",
    "from sklearn.metrics import classification_report\n",
    "\n",
    "# SK-learn libraries for feature extraction from text.\n",
    "from sklearn.feature_extraction.text import *\n",
    "\n",
    "# Config Jupyter session\n",
    "%config IPCompleter.greedy=True\n",
    "\n",
    "# Set the randomizer seed so results are the same each time.\n",
    "np.random.seed(0)\n",
    "\n",
    "# Global configurations\n",
    "np.set_printoptions(precision=4, suppress=True)\n",
    "\n",
    "# Config system logs\n",
    "import logging\n",
    "logging.basicConfig(level=logging.INFO,\n",
    "                   format='%(asctime)s %(levelname)s %(message)s')\n",
    "\n",
    "# print versions\n",
    "print(\"Python version used:\", sys.version)\n",
    "print(\"Numpy version used:\", np.__version__)\n",
    "print(\"sklearn version used:\", sklearn.__version__)"
   ]
  },
  {
   "cell_type": "markdown",
   "metadata": {},
   "source": [
    "#### Goals\n",
    "Our project’s primary concept is to utilize Yelp data (from kaggle) to rate new business. That is, we are going to get Yelp user review data, use review texts to predict review is **positive** or **negative**. When people talk about a new business, we can capture their words, fit into the model, then predict its rating, sort of understand its quality and potential.\n",
    "\n",
    "#### The Yelp Review Dataset\n",
    "We write a shell [script](https://github.com/annesjyu/m207_summer_2018) to select $10,000$ reviews for training, testing and dev respectively, each set consisting in 50% negative and 50% positive reviews. We keep only review text and stars columns, then binarize stars into target label: \n",
    "- if starts >= $3.0$, review is *positive*\n",
    "- otherwise, it's *negative*.\n",
    "\n",
    "The following code will load the dataset and split it into $3$ sets:"
   ]
  },
  {
   "cell_type": "code",
   "execution_count": 3,
   "metadata": {},
   "outputs": [
    {
     "name": "stdout",
     "output_type": "stream",
     "text": [
      "Full data dim:  (29701, 2)\n",
      "train data size:  12000\n",
      "test data size:  10000\n",
      "dev data size:  7700\n",
      "________________________________________________________________________________\n",
      "Training examples:\n",
      " ['Orange Blossom Beer is the best  However atmosphere and Service (Female Bartender/Server) were really bad... Go to Chevron get a growler  go home and Enjoy!!! '\n",
      " \"Tried this place one time shortly after they opened.   I wasn't really impressed with their food. The place did look neat and clean and the staff was very friendly.  Although I wasn't impressed with my one visit based on the customer service I'll probably try it again at some point. \"]\n",
      "[0 1]\n",
      "________________________________________________________________________________\n",
      "Testing examples:\n",
      " ['Not worth going to. I ordered a ramen and the chicken was very dry and over done  the soup was way too salty and tasted very artificial as well. Definitely way better ramen shops in the gta. The chicken bao was absolutely horrible because  1. It was way too spicy  and 2. Way too dry. It burnt my mouth and stomach the whole night. '\n",
      " 'Service was horrible! Some European lady with an accent came to take our order and right in the middle of my order she walked away and helped someone else! I called her back to ask her if we could finish our order. She rudely complied.. I was sitting on the far left of the bar and I could clearly see the kitchen. The server was sitting on a keg taking off her shoes and picking dirt from in between her toes.. I then saw her place carrots and celery with her dirty foot fingers into our plates! DISGUSTING! Food was alright. Will not be coming here again I DO NOT RECOMMEND THIS PLACE ']\n",
      "[0 0]\n",
      "________________________________________________________________________________\n",
      "Dev examples:\n",
      " ['Absolute ripoff and terrible customer service! I went here for a bachelor party as I was told it was an upscale gentlemen\\'s club. After the $50 cover charge we found the place went downhill from there. We had one of the entertainers lie to us in order to go into the so called VIP area with a promise of 1 full hour of performances and 10 drinks included for $450. Then we were hustled further by being charged a 15% service fee and a 20% gratuity at the VIP entry in advanced \"\"before\"\" even being seated. What a joke!!!! Once in there we ordered a round of 3 drinks and it came out to $80. We challenged this charge stating we were told the first 10 drinks would be included! A lie from our entertainer Mariah!!! After performing for about 15-20 minutes Mariah said she was done. What about the hour that was promised? She then stated it was only half an hour and it was \"\"her bad\"\". We were very upset at this point because we were basically robbed of $700 over the course of 20 minutes! I then called Nicole later that day to dispute the charges  her response was that we should not have trusted anything that their entertainers said or promised. She said that they were independent contractors and they could say whatever they want. Even though they work under Crazyhorse 3\\'s roof. I was like really? I couldn\\'t believe it!!! Then she had our VIP host Darius call me later that day. Another total waste of time!!! He offered me a 200 gift card to use at the club. Basically an admission of guilt. Why would he offer us a $200 gift card if we weren\\'t lied to? Plus that\\'s not even close to the $700 we were hustled out of. I made it abundantly clear to him that I had no desire to go back to a place that rips people off. I asked for a full refund that I felt I was entitled to. I even told them to keep the $80 for the drinks I was misrepresented about. He promised that he would talk to his boss to get back to me within 24 hours. Another Crazyhorse 3 lie. It\\'s been almost 2 weeks and what a surprise  no response from Darius. I\\'ve left him three voicemails and three text messages with not as much as one response. This place is a rip off and the customer service is a joke. Don\\'t waste your time  patience  or money. I should\\'ve read their yelp reviews before I went. Browse through and you will see that they consistently rip people off. Pretty awful business practices. '\n",
      " 'Recommend that you stay somewhere else! Older property. Most of the staff just going through the motions. Bed was too firm for us. ']\n",
      "[0 0]\n"
     ]
    }
   ],
   "source": [
    "with np.warnings.catch_warnings():\n",
    "    # There are some bad data, we just dont want to see a lot of warning messages\n",
    "    np.warnings.filterwarnings('ignore', r'Some errors were detected')\n",
    "    data = np.genfromtxt('data.csv',dtype='str', delimiter='|', skip_header=1, \n",
    "                         usecols = (0,1), invalid_raise=False, loose=True)\n",
    "\n",
    "    print (\"Full data dim: \", data.shape)\n",
    "    \n",
    "    # Shuffle the data, each dataset will have roughly the same number of examples for each label.\n",
    "    shuffle = np.random.permutation(np.arange(data.shape[0]))\n",
    "    X, Y = data[shuffle, 0], data[shuffle, 1]    \n",
    "    \n",
    "    train_data, train_labels = X[0:12000], Y[:12000].astype(np.int)\n",
    "    test_data, test_labels = X[12000:22000], Y[12000:22000].astype(np.int)\n",
    "    dev_data, dev_labels = X[22000:-1], Y[22000:-1].astype(np.int)\n",
    "\n",
    "    NUM_OF_TRAINING_DATA = len(train_data)\n",
    "    NUM_OF_TESTING_DATA = len(test_data)\n",
    "    NUM_OF_DEV_DATA = len(dev_data)\n",
    "\n",
    "    print ('train data size: ', NUM_OF_TRAINING_DATA)\n",
    "    print ('test data size: ', NUM_OF_TESTING_DATA)\n",
    "    print ('dev data size: ', NUM_OF_DEV_DATA)\n",
    "    print ('_'*80)\n",
    "    print ('Training examples:\\n', train_data[0:2])\n",
    "    print (train_labels[0:2])\n",
    "    print ('_'*80)\n",
    "    print ('Testing examples:\\n', test_data[0:2])\n",
    "    print (test_labels[0:2])\n",
    "    print ('_'*80)\n",
    "    print ('Dev examples:\\n', dev_data[0:2])\n",
    "    print (dev_labels[0:2])"
   ]
  },
  {
   "cell_type": "markdown",
   "metadata": {},
   "source": [
    "Analyze train, dev and test datasets to find out data distributions. Ideally we want to have 50% examples for either label."
   ]
  },
  {
   "cell_type": "code",
   "execution_count": 104,
   "metadata": {},
   "outputs": [
    {
     "name": "stdout",
     "output_type": "stream",
     "text": [
      "positive train data:  6011 , negative train data:  5989\n",
      "positive test data:  4990 , negative test data:  5010\n",
      "positive dev data:  3862 , negative dev data:  3838\n"
     ]
    }
   ],
   "source": [
    "print ('positive train data: ', len(np.where(train_labels==1)[0]), \n",
    "       ', negative train data: ', len(np.where(train_labels==0)[0]))\n",
    "print ('positive test data: ', len(np.where(test_labels==1)[0]), \n",
    "       ', negative test data: ', len(np.where(test_labels==0)[0]))\n",
    "print ('positive dev data: ', len(np.where(dev_labels==1)[0]), \n",
    "       ', negative dev data: ', len(np.where(dev_labels==0)[0]))"
   ]
  },
  {
   "cell_type": "markdown",
   "metadata": {},
   "source": [
    "#### Natural Language Processing\n",
    "\n",
    "We will create doc-term matrix from data, so can fit all classifiers. There are a couple of steps of doing it.\n",
    "...\n",
    "..."
   ]
  },
  {
   "cell_type": "markdown",
   "metadata": {},
   "source": [
    "##### Create a baseline using default CountVectorizer and NB"
   ]
  },
  {
   "cell_type": "code",
   "execution_count": 114,
   "metadata": {},
   "outputs": [
    {
     "name": "stdout",
     "output_type": "stream",
     "text": [
      "(12000, 5303)\n",
      "             precision    recall  f1-score   support\n",
      "\n",
      "          0       0.76      0.87      0.81      3372\n",
      "          1       0.89      0.79      0.84      4328\n",
      "\n",
      "avg / total       0.83      0.83      0.83      7700\n",
      "\n",
      "top 100 terms:\n",
      " ['kind', 'stars', 'different', 'favorite', 'probably', 'took', 'perfect', 'dinner', 'table', 'worth', 'hot', 'sweet', 'vegas', 'inside', 'home', 'bad', 'need', 'meal', 'drinks', 'salad', 'excellent', 'work', 'feel', 'quite', 'awesome', 'tried', 'happy', 'overall', 'cheese', 'long', 'location', 'thing', 'clean', 'looking', 'price', 'prices', 'wasn', 'big', 'lunch', 'sauce', 'night', 'super', 'eat', 'times', 'new', 'bar', 'lot', 'say', 'want', 'bit', 'fresh', 'day', 'll', 'wait', 'going', 'sure', 'small', 'experience', 'know', 'area', 'way', 'think', 'right', 'better', 'chicken', 'went', 'recommend', 'amazing', 'order', 'restaurant', 'didn', 'came', 'people', 'did', 'menu', 'make', 'ordered', 'pretty', 'delicious', 'come', 'got', 'staff', 'try', 'definitely', 'little', 'love', 'friendly', 'best', 'don', 've', 'nice', 'really', 'time', 'just', 'service', 'like', 'food', 'great', 'place', 'good']\n",
      "________________________________________________________________________________\n",
      "lest important 100 terms:\n",
      " ['owed', 'billing', 'expired', 'threatened', 'ripoff', 'incompetent', 'dissatisfied', 'flagged', 'disrespected', 'dispute', 'compensation', 'rudest', '800', 'operate', 'dishonest', 'disgusted', 'nur', 'cox', 'horrendous', 'refusing', 'canceling', 'liars', 'subpar', 'racist', 'blatantly', 'blamed', 'ignorant', 'denied', 'wouldnt', 'actions', 'arrogant', 'reads', 'insult', 'shaking', 'demanded', 'appalled', 'crawling', 'mush', 'supervisor', 'scum', 'placing', 'pathetic', 'proceed', 'refunded', 'drain', 'refunds', 'counted', 'uns', 'sarcastic', 'scam', 'determined', 'indifferent', 'abysmal', 'wilted', 'valid', 'unappetizing', 'slowest', 'insulted', 'tape', 'als', 'downhill', 'voicemail', '21st', 'approved', 'letters', 'reported', 'defensive', 'clarify', 'threatening', 'billed', 'nach', 'belongings', 'belong', 'canceled', 'pouring', 'tenants', 'grossed', 'argue', 'vomit', 'headache', 'quit', 'wasting', 'sheets', 'false', 'individuals', 'notified', 'periods', 'attempts', 'hr', 'joking', 'redeeming', 'statement', 'inattentive', 'meantime', 'application', 'patron', 'contacting', 'ur', 'costing', 'confirmed']\n",
      "________________________________________________________________________________\n"
     ]
    }
   ],
   "source": [
    "v = CountVectorizer(strip_accents='ascii', stop_words='english', min_df=0.001)\n",
    "train_dtm = v.fit_transform(train_data)\n",
    "print (train_dtm.shape)\n",
    "\n",
    "bnb = BernoulliNB(alpha=0.01)\n",
    "bnb.fit(train_dtm, train_labels)\n",
    "predicted = bnb.predict(v.transform(dev_data))\n",
    "\n",
    "print (classification_report(predicted, dev_labels))\n",
    "\n",
    "terms = v.get_feature_names()\n",
    "top100 = np.argsort(bnb.coef_[0])[-100:]\n",
    "print ('top 100 terms:\\n',[terms[int(w)] for w in top100])\n",
    "print ('_'*80)\n",
    "bottom100 = np.argsort(bnb.coef_[0])[:100]\n",
    "print ('lest important 100 terms:\\n',[terms[int(w)] for w in bottom100])\n",
    "print ('_'*80)"
   ]
  },
  {
   "cell_type": "markdown",
   "metadata": {},
   "source": [
    "##### Logistic Regression Model\n",
    "\n",
    "In this section, we will train Logistic Regression model."
   ]
  },
  {
   "cell_type": "code",
   "execution_count": 6,
   "metadata": {},
   "outputs": [
    {
     "name": "stdout",
     "output_type": "stream",
     "text": [
      "Number of nonzero weights with l1 penalty is 2009.\n",
      "Number of nonzero weights with l2 penalty is 5402.\n",
      "Best F1 score with L2 regularization is 0.87.\n",
      "The best F1 score is achieved by using the vocabulary size 274 determined by L1 regularization with C parameter 0.06952\n"
     ]
    },
    {
     "data": {
      "image/png": "[encoded data removed]",
      "text/plain": [
       "<Figure size 720x720 with 1 Axes>"
      ]
     },
     "metadata": {},
     "output_type": "display_data"
    }
   ],
   "source": [
    "def yelp_review_logistic_regression_model(train_data = train_data,\n",
    "                                          train_labels = train_labels,\n",
    "                                          test_data = dev_data,\n",
    "                                          test_labels = dev_labels,\n",
    "                                          seed = 1234):\n",
    "    # Keep this random seed so that this function is reproducible.\n",
    "    np.random.seed(seed)\n",
    "    count_vectorizer = CountVectorizer(strip_accents='ascii', stop_words='english', min_df=0.001)\n",
    "    dtm_train = count_vectorizer.fit_transform(train_data)\n",
    "    # compare the number of nonzero weights from l1 and l2\n",
    "    logistic_l1 = LogisticRegression(penalty=\"l1\")\n",
    "    logistic_l1.fit(dtm_train, train_labels)\n",
    "    # Method 1 using np.nonzero\n",
    "    print(\"Number of nonzero weights with l1 penalty is {:d}.\".format(len(set((np.nonzero(logistic_l1.coef_))[1]))))\n",
    "    logistic_l2 = LogisticRegression(penalty=\"l2\")\n",
    "    logistic_l2.fit(dtm_train, train_labels)\n",
    "    print(\"Number of nonzero weights with l2 penalty is {:d}.\".format(len(set((np.nonzero(logistic_l2.coef_))[1]))))\n",
    "    \n",
    "    # vary C parameters and plot the graph\n",
    "    vocabsizes = []\n",
    "    l1_cs = []\n",
    "    f1_scores = []\n",
    "    for i in np.logspace(-3, 2, num=20):\n",
    "        logistic_l1 = LogisticRegression(penalty=\"l1\", tol=0.01, C=i)\n",
    "        logistic_l1.fit(dtm_train, train_labels)\n",
    "        # features that have at least one non-zero weights under l1 penalty\n",
    "        l1_nonzero_vocab = np.array(count_vectorizer.get_feature_names())[list(set((np.nonzero(logistic_l1.coef_))[1]))]\n",
    "        vocabsizes.append(len(l1_nonzero_vocab))\n",
    "        l1_cs.append(i)\n",
    "        # using vocabulary based on non-zero weights from l1 penalty logistic regression results\n",
    "        vectorizer_with_reduced_vocab = CountVectorizer(vocabulary=l1_nonzero_vocab)\n",
    "        dtm_with_reduced_vocab = vectorizer_with_reduced_vocab.fit_transform(train_data)\n",
    "        dtm_test_with_reduced_vocab = vectorizer_with_reduced_vocab.transform(test_data)\n",
    "        # fit logistic regression with penalty l2\n",
    "        logistic_l2_retrain = LogisticRegression(penalty=\"l2\")\n",
    "        logistic_l2_retrain.fit(dtm_with_reduced_vocab, train_labels)\n",
    "        f1_scores.append(metrics.f1_score(test_labels,\n",
    "                                          logistic_l2_retrain.predict(dtm_test_with_reduced_vocab),\n",
    "                                          average = 'macro'))\n",
    "    \n",
    "    # plot the results\n",
    "    plt.figure(figsize=(10,10))\n",
    "    plt.plot(vocabsizes, f1_scores, 'bo', markersize=15)\n",
    "    plt.title('F1 scores of the re-trained model with l2 vs. the vocabulary size based on l1')\n",
    "    plt.xlabel('Vocabulary size')\n",
    "    plt.ylabel('F1 score')\n",
    "    plt.rcParams[\"font.size\"] = 12\n",
    "    \n",
    "    print(\"Best F1 score with L2 regularization is {:.2f}.\\nThe best F1 score is achieved by using the vocabulary size {:d} determined by L1 regularization with C parameter {:.5f}\"\\\n",
    "          .format(np.max(f1_scores),vocabsizes[np.argmax(f1_scores)],l1_cs[np.argmax(f1_scores)]))\n",
    "\n",
    "yelp_review_logistic_regression_model()    "
   ]
  }
 ],
 "metadata": {
  "kernelspec": {
   "display_name": "Python 3",
   "language": "python",
   "name": "python3"
  },
  "language_info": {
   "codemirror_mode": {
    "name": "ipython",
    "version": 3
   },
   "file_extension": ".py",
   "mimetype": "text/x-python",
   "name": "python",
   "nbconvert_exporter": "python",
   "pygments_lexer": "ipython3",
   "version": "3.5.1"
  }
 },
 "nbformat": 4,
 "nbformat_minor": 2
}
